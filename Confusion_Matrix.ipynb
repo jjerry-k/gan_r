{
 "cells": [
  {
   "cell_type": "markdown",
   "metadata": {},
   "source": [
    "# Confusion Matrix\n",
    "\n",
    "| 구분 | Predicted True | Predicted False |\n",
    "|:----:| :----: | :----:|\n",
    "|Actual True| True Positive | False Negative |\n",
    "|Actual False| False Positive | True Negative |\n",
    "\n",
    "\n",
    "Type 1 Error : False Positive  \n",
    "Tyep 2 Error : False Negative\n",
    " \n",
    " Sensitivity : TPR(True Positive Rate), Recall\n",
    "$$ \n",
    " \\frac{TP} {{TP} + {FN}}\n",
    "$$\n",
    "Specificity : TNR(True Negative Rate)\n",
    "$$ \n",
    " \\frac{TN} {{TN} + {FP}}\n",
    "$$"
   ]
  }
 ],
 "metadata": {
  "kernelspec": {
   "display_name": "Python 3",
   "language": "python",
   "name": "python3"
  },
  "language_info": {
   "codemirror_mode": {
    "name": "ipython",
    "version": 3
   },
   "file_extension": ".py",
   "mimetype": "text/x-python",
   "name": "python",
   "nbconvert_exporter": "python",
   "pygments_lexer": "ipython3",
   "version": "3.6.8"
  }
 },
 "nbformat": 4,
 "nbformat_minor": 2
}
