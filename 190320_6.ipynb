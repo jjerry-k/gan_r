{
 "cells": [
  {
   "cell_type": "markdown",
   "metadata": {},
   "source": [
    "# 6-5. 파생변수 추가하기\n",
    "\n",
    "<img src='./data/01.png'>"
   ]
  },
  {
   "cell_type": "markdown",
   "metadata": {},
   "source": [
    "## dplyr\n",
    "- 데이터 전처리 패키지\n",
    "\n",
    "\n",
    "<img src='./data/02.png'>"
   ]
  },
  {
   "cell_type": "code",
   "execution_count": 1,
   "metadata": {},
   "outputs": [
    {
     "name": "stderr",
     "output_type": "stream",
     "text": [
      "\n",
      "Attaching package: ‘dplyr’\n",
      "\n",
      "The following objects are masked from ‘package:stats’:\n",
      "\n",
      "    filter, lag\n",
      "\n",
      "The following objects are masked from ‘package:base’:\n",
      "\n",
      "    intersect, setdiff, setequal, union\n",
      "\n"
     ]
    }
   ],
   "source": [
    "library(dplyr)"
   ]
  },
  {
   "cell_type": "code",
   "execution_count": 2,
   "metadata": {
    "scrolled": false
   },
   "outputs": [
    {
     "data": {
      "text/html": [
       "<table>\n",
       "<thead><tr><th scope=col>id</th><th scope=col>class</th><th scope=col>math</th><th scope=col>english</th><th scope=col>science</th></tr></thead>\n",
       "<tbody>\n",
       "\t<tr><td>1 </td><td>1 </td><td>50</td><td>98</td><td>50</td></tr>\n",
       "\t<tr><td>2 </td><td>1 </td><td>60</td><td>97</td><td>60</td></tr>\n",
       "\t<tr><td>3 </td><td>1 </td><td>45</td><td>86</td><td>78</td></tr>\n",
       "\t<tr><td>4 </td><td>1 </td><td>30</td><td>98</td><td>58</td></tr>\n",
       "\t<tr><td>5 </td><td>2 </td><td>25</td><td>80</td><td>65</td></tr>\n",
       "\t<tr><td>6 </td><td>2 </td><td>50</td><td>89</td><td>98</td></tr>\n",
       "</tbody>\n",
       "</table>\n"
      ],
      "text/latex": [
       "\\begin{tabular}{r|lllll}\n",
       " id & class & math & english & science\\\\\n",
       "\\hline\n",
       "\t 1  & 1  & 50 & 98 & 50\\\\\n",
       "\t 2  & 1  & 60 & 97 & 60\\\\\n",
       "\t 3  & 1  & 45 & 86 & 78\\\\\n",
       "\t 4  & 1  & 30 & 98 & 58\\\\\n",
       "\t 5  & 2  & 25 & 80 & 65\\\\\n",
       "\t 6  & 2  & 50 & 89 & 98\\\\\n",
       "\\end{tabular}\n"
      ],
      "text/markdown": [
       "\n",
       "id | class | math | english | science | \n",
       "|---|---|---|---|---|---|\n",
       "| 1  | 1  | 50 | 98 | 50 | \n",
       "| 2  | 1  | 60 | 97 | 60 | \n",
       "| 3  | 1  | 45 | 86 | 78 | \n",
       "| 4  | 1  | 30 | 98 | 58 | \n",
       "| 5  | 2  | 25 | 80 | 65 | \n",
       "| 6  | 2  | 50 | 89 | 98 | \n",
       "\n",
       "\n"
      ],
      "text/plain": [
       "  id class math english science\n",
       "1 1  1     50   98      50     \n",
       "2 2  1     60   97      60     \n",
       "3 3  1     45   86      78     \n",
       "4 4  1     30   98      58     \n",
       "5 5  2     25   80      65     \n",
       "6 6  2     50   89      98     "
      ]
     },
     "metadata": {},
     "output_type": "display_data"
    },
    {
     "data": {
      "text/html": [
       "<table>\n",
       "<thead><tr><th scope=col>id</th><th scope=col>class</th><th scope=col>math</th><th scope=col>english</th><th scope=col>science</th><th scope=col>total</th></tr></thead>\n",
       "<tbody>\n",
       "\t<tr><td>1  </td><td>1  </td><td>50 </td><td>98 </td><td>50 </td><td>198</td></tr>\n",
       "\t<tr><td>2  </td><td>1  </td><td>60 </td><td>97 </td><td>60 </td><td>217</td></tr>\n",
       "\t<tr><td>3  </td><td>1  </td><td>45 </td><td>86 </td><td>78 </td><td>209</td></tr>\n",
       "\t<tr><td>4  </td><td>1  </td><td>30 </td><td>98 </td><td>58 </td><td>186</td></tr>\n",
       "\t<tr><td>5  </td><td>2  </td><td>25 </td><td>80 </td><td>65 </td><td>170</td></tr>\n",
       "\t<tr><td>6  </td><td>2  </td><td>50 </td><td>89 </td><td>98 </td><td>237</td></tr>\n",
       "</tbody>\n",
       "</table>\n"
      ],
      "text/latex": [
       "\\begin{tabular}{r|llllll}\n",
       " id & class & math & english & science & total\\\\\n",
       "\\hline\n",
       "\t 1   & 1   & 50  & 98  & 50  & 198\\\\\n",
       "\t 2   & 1   & 60  & 97  & 60  & 217\\\\\n",
       "\t 3   & 1   & 45  & 86  & 78  & 209\\\\\n",
       "\t 4   & 1   & 30  & 98  & 58  & 186\\\\\n",
       "\t 5   & 2   & 25  & 80  & 65  & 170\\\\\n",
       "\t 6   & 2   & 50  & 89  & 98  & 237\\\\\n",
       "\\end{tabular}\n"
      ],
      "text/markdown": [
       "\n",
       "id | class | math | english | science | total | \n",
       "|---|---|---|---|---|---|\n",
       "| 1   | 1   | 50  | 98  | 50  | 198 | \n",
       "| 2   | 1   | 60  | 97  | 60  | 217 | \n",
       "| 3   | 1   | 45  | 86  | 78  | 209 | \n",
       "| 4   | 1   | 30  | 98  | 58  | 186 | \n",
       "| 5   | 2   | 25  | 80  | 65  | 170 | \n",
       "| 6   | 2   | 50  | 89  | 98  | 237 | \n",
       "\n",
       "\n"
      ],
      "text/plain": [
       "  id class math english science total\n",
       "1 1  1     50   98      50      198  \n",
       "2 2  1     60   97      60      217  \n",
       "3 3  1     45   86      78      209  \n",
       "4 4  1     30   98      58      186  \n",
       "5 5  2     25   80      65      170  \n",
       "6 6  2     50   89      98      237  "
      ]
     },
     "metadata": {},
     "output_type": "display_data"
    }
   ],
   "source": [
    "exam1 <- read.csv(\"./data/csv_exam.csv\")\n",
    "head(exam1)\n",
    "\n",
    "exam1 %>% \n",
    "    mutate(total = math + english + science) %>%\n",
    "    head"
   ]
  },
  {
   "cell_type": "code",
   "execution_count": 3,
   "metadata": {},
   "outputs": [
    {
     "data": {
      "text/html": [
       "<table>\n",
       "<thead><tr><th scope=col>id</th><th scope=col>class</th><th scope=col>math</th><th scope=col>english</th><th scope=col>science</th></tr></thead>\n",
       "<tbody>\n",
       "\t<tr><td>1 </td><td>1 </td><td>50</td><td>98</td><td>50</td></tr>\n",
       "\t<tr><td>2 </td><td>1 </td><td>60</td><td>97</td><td>60</td></tr>\n",
       "\t<tr><td>3 </td><td>1 </td><td>45</td><td>86</td><td>78</td></tr>\n",
       "\t<tr><td>4 </td><td>1 </td><td>30</td><td>98</td><td>58</td></tr>\n",
       "\t<tr><td>5 </td><td>2 </td><td>25</td><td>80</td><td>65</td></tr>\n",
       "\t<tr><td>6 </td><td>2 </td><td>50</td><td>89</td><td>98</td></tr>\n",
       "</tbody>\n",
       "</table>\n"
      ],
      "text/latex": [
       "\\begin{tabular}{r|lllll}\n",
       " id & class & math & english & science\\\\\n",
       "\\hline\n",
       "\t 1  & 1  & 50 & 98 & 50\\\\\n",
       "\t 2  & 1  & 60 & 97 & 60\\\\\n",
       "\t 3  & 1  & 45 & 86 & 78\\\\\n",
       "\t 4  & 1  & 30 & 98 & 58\\\\\n",
       "\t 5  & 2  & 25 & 80 & 65\\\\\n",
       "\t 6  & 2  & 50 & 89 & 98\\\\\n",
       "\\end{tabular}\n"
      ],
      "text/markdown": [
       "\n",
       "id | class | math | english | science | \n",
       "|---|---|---|---|---|---|\n",
       "| 1  | 1  | 50 | 98 | 50 | \n",
       "| 2  | 1  | 60 | 97 | 60 | \n",
       "| 3  | 1  | 45 | 86 | 78 | \n",
       "| 4  | 1  | 30 | 98 | 58 | \n",
       "| 5  | 2  | 25 | 80 | 65 | \n",
       "| 6  | 2  | 50 | 89 | 98 | \n",
       "\n",
       "\n"
      ],
      "text/plain": [
       "  id class math english science\n",
       "1 1  1     50   98      50     \n",
       "2 2  1     60   97      60     \n",
       "3 3  1     45   86      78     \n",
       "4 4  1     30   98      58     \n",
       "5 5  2     25   80      65     \n",
       "6 6  2     50   89      98     "
      ]
     },
     "metadata": {},
     "output_type": "display_data"
    },
    {
     "data": {
      "text/html": [
       "<table>\n",
       "<thead><tr><th scope=col>id</th><th scope=col>class</th><th scope=col>math</th><th scope=col>english</th><th scope=col>science</th><th scope=col>total</th></tr></thead>\n",
       "<tbody>\n",
       "\t<tr><td>1  </td><td>1  </td><td>50 </td><td>98 </td><td>50 </td><td>198</td></tr>\n",
       "\t<tr><td>2  </td><td>1  </td><td>60 </td><td>97 </td><td>60 </td><td>217</td></tr>\n",
       "\t<tr><td>3  </td><td>1  </td><td>45 </td><td>86 </td><td>78 </td><td>209</td></tr>\n",
       "\t<tr><td>4  </td><td>1  </td><td>30 </td><td>98 </td><td>58 </td><td>186</td></tr>\n",
       "\t<tr><td>5  </td><td>2  </td><td>25 </td><td>80 </td><td>65 </td><td>170</td></tr>\n",
       "\t<tr><td>6  </td><td>2  </td><td>50 </td><td>89 </td><td>98 </td><td>237</td></tr>\n",
       "</tbody>\n",
       "</table>\n"
      ],
      "text/latex": [
       "\\begin{tabular}{r|llllll}\n",
       " id & class & math & english & science & total\\\\\n",
       "\\hline\n",
       "\t 1   & 1   & 50  & 98  & 50  & 198\\\\\n",
       "\t 2   & 1   & 60  & 97  & 60  & 217\\\\\n",
       "\t 3   & 1   & 45  & 86  & 78  & 209\\\\\n",
       "\t 4   & 1   & 30  & 98  & 58  & 186\\\\\n",
       "\t 5   & 2   & 25  & 80  & 65  & 170\\\\\n",
       "\t 6   & 2   & 50  & 89  & 98  & 237\\\\\n",
       "\\end{tabular}\n"
      ],
      "text/markdown": [
       "\n",
       "id | class | math | english | science | total | \n",
       "|---|---|---|---|---|---|\n",
       "| 1   | 1   | 50  | 98  | 50  | 198 | \n",
       "| 2   | 1   | 60  | 97  | 60  | 217 | \n",
       "| 3   | 1   | 45  | 86  | 78  | 209 | \n",
       "| 4   | 1   | 30  | 98  | 58  | 186 | \n",
       "| 5   | 2   | 25  | 80  | 65  | 170 | \n",
       "| 6   | 2   | 50  | 89  | 98  | 237 | \n",
       "\n",
       "\n"
      ],
      "text/plain": [
       "  id class math english science total\n",
       "1 1  1     50   98      50      198  \n",
       "2 2  1     60   97      60      217  \n",
       "3 3  1     45   86      78      209  \n",
       "4 4  1     30   98      58      186  \n",
       "5 5  2     25   80      65      170  \n",
       "6 6  2     50   89      98      237  "
      ]
     },
     "metadata": {},
     "output_type": "display_data"
    }
   ],
   "source": [
    "exam2 <- read.csv(\"./data/csv_exam.csv\")\n",
    "head(exam2)\n",
    "\n",
    "head(mutate(exam2, total = math + english + science))"
   ]
  },
  {
   "cell_type": "markdown",
   "metadata": {},
   "source": [
    "## 여러 파생변수 한 번에 추가하기\n"
   ]
  },
  {
   "cell_type": "code",
   "execution_count": 4,
   "metadata": {},
   "outputs": [
    {
     "data": {
      "text/html": [
       "<table>\n",
       "<thead><tr><th scope=col>id</th><th scope=col>class</th><th scope=col>math</th><th scope=col>english</th><th scope=col>science</th><th scope=col>total</th><th scope=col>mean</th></tr></thead>\n",
       "<tbody>\n",
       "\t<tr><td>1       </td><td>1       </td><td>50      </td><td>98      </td><td>50      </td><td>198     </td><td>66.00000</td></tr>\n",
       "\t<tr><td>2       </td><td>1       </td><td>60      </td><td>97      </td><td>60      </td><td>217     </td><td>72.33333</td></tr>\n",
       "\t<tr><td>3       </td><td>1       </td><td>45      </td><td>86      </td><td>78      </td><td>209     </td><td>69.66667</td></tr>\n",
       "\t<tr><td>4       </td><td>1       </td><td>30      </td><td>98      </td><td>58      </td><td>186     </td><td>62.00000</td></tr>\n",
       "\t<tr><td>5       </td><td>2       </td><td>25      </td><td>80      </td><td>65      </td><td>170     </td><td>56.66667</td></tr>\n",
       "\t<tr><td>6       </td><td>2       </td><td>50      </td><td>89      </td><td>98      </td><td>237     </td><td>79.00000</td></tr>\n",
       "</tbody>\n",
       "</table>\n"
      ],
      "text/latex": [
       "\\begin{tabular}{r|lllllll}\n",
       " id & class & math & english & science & total & mean\\\\\n",
       "\\hline\n",
       "\t 1        & 1        & 50       & 98       & 50       & 198      & 66.00000\\\\\n",
       "\t 2        & 1        & 60       & 97       & 60       & 217      & 72.33333\\\\\n",
       "\t 3        & 1        & 45       & 86       & 78       & 209      & 69.66667\\\\\n",
       "\t 4        & 1        & 30       & 98       & 58       & 186      & 62.00000\\\\\n",
       "\t 5        & 2        & 25       & 80       & 65       & 170      & 56.66667\\\\\n",
       "\t 6        & 2        & 50       & 89       & 98       & 237      & 79.00000\\\\\n",
       "\\end{tabular}\n"
      ],
      "text/markdown": [
       "\n",
       "id | class | math | english | science | total | mean | \n",
       "|---|---|---|---|---|---|\n",
       "| 1        | 1        | 50       | 98       | 50       | 198      | 66.00000 | \n",
       "| 2        | 1        | 60       | 97       | 60       | 217      | 72.33333 | \n",
       "| 3        | 1        | 45       | 86       | 78       | 209      | 69.66667 | \n",
       "| 4        | 1        | 30       | 98       | 58       | 186      | 62.00000 | \n",
       "| 5        | 2        | 25       | 80       | 65       | 170      | 56.66667 | \n",
       "| 6        | 2        | 50       | 89       | 98       | 237      | 79.00000 | \n",
       "\n",
       "\n"
      ],
      "text/plain": [
       "  id class math english science total mean    \n",
       "1 1  1     50   98      50      198   66.00000\n",
       "2 2  1     60   97      60      217   72.33333\n",
       "3 3  1     45   86      78      209   69.66667\n",
       "4 4  1     30   98      58      186   62.00000\n",
       "5 5  2     25   80      65      170   56.66667\n",
       "6 6  2     50   89      98      237   79.00000"
      ]
     },
     "metadata": {},
     "output_type": "display_data"
    }
   ],
   "source": [
    "exam1 %>% \n",
    "    mutate(total = math + english + science,\n",
    "          mean = (math + english + science)/3) %>% \n",
    "    head"
   ]
  },
  {
   "cell_type": "code",
   "execution_count": 5,
   "metadata": {},
   "outputs": [
    {
     "data": {
      "text/html": [
       "<table>\n",
       "<thead><tr><th scope=col>id</th><th scope=col>class</th><th scope=col>math</th><th scope=col>english</th><th scope=col>science</th><th scope=col>total</th><th scope=col>mean</th></tr></thead>\n",
       "<tbody>\n",
       "\t<tr><td>1       </td><td>1       </td><td>50      </td><td>98      </td><td>50      </td><td>198     </td><td>66.00000</td></tr>\n",
       "\t<tr><td>2       </td><td>1       </td><td>60      </td><td>97      </td><td>60      </td><td>217     </td><td>72.33333</td></tr>\n",
       "\t<tr><td>3       </td><td>1       </td><td>45      </td><td>86      </td><td>78      </td><td>209     </td><td>69.66667</td></tr>\n",
       "\t<tr><td>4       </td><td>1       </td><td>30      </td><td>98      </td><td>58      </td><td>186     </td><td>62.00000</td></tr>\n",
       "\t<tr><td>5       </td><td>2       </td><td>25      </td><td>80      </td><td>65      </td><td>170     </td><td>56.66667</td></tr>\n",
       "\t<tr><td>6       </td><td>2       </td><td>50      </td><td>89      </td><td>98      </td><td>237     </td><td>79.00000</td></tr>\n",
       "</tbody>\n",
       "</table>\n"
      ],
      "text/latex": [
       "\\begin{tabular}{r|lllllll}\n",
       " id & class & math & english & science & total & mean\\\\\n",
       "\\hline\n",
       "\t 1        & 1        & 50       & 98       & 50       & 198      & 66.00000\\\\\n",
       "\t 2        & 1        & 60       & 97       & 60       & 217      & 72.33333\\\\\n",
       "\t 3        & 1        & 45       & 86       & 78       & 209      & 69.66667\\\\\n",
       "\t 4        & 1        & 30       & 98       & 58       & 186      & 62.00000\\\\\n",
       "\t 5        & 2        & 25       & 80       & 65       & 170      & 56.66667\\\\\n",
       "\t 6        & 2        & 50       & 89       & 98       & 237      & 79.00000\\\\\n",
       "\\end{tabular}\n"
      ],
      "text/markdown": [
       "\n",
       "id | class | math | english | science | total | mean | \n",
       "|---|---|---|---|---|---|\n",
       "| 1        | 1        | 50       | 98       | 50       | 198      | 66.00000 | \n",
       "| 2        | 1        | 60       | 97       | 60       | 217      | 72.33333 | \n",
       "| 3        | 1        | 45       | 86       | 78       | 209      | 69.66667 | \n",
       "| 4        | 1        | 30       | 98       | 58       | 186      | 62.00000 | \n",
       "| 5        | 2        | 25       | 80       | 65       | 170      | 56.66667 | \n",
       "| 6        | 2        | 50       | 89       | 98       | 237      | 79.00000 | \n",
       "\n",
       "\n"
      ],
      "text/plain": [
       "  id class math english science total mean    \n",
       "1 1  1     50   98      50      198   66.00000\n",
       "2 2  1     60   97      60      217   72.33333\n",
       "3 3  1     45   86      78      209   69.66667\n",
       "4 4  1     30   98      58      186   62.00000\n",
       "5 5  2     25   80      65      170   56.66667\n",
       "6 6  2     50   89      98      237   79.00000"
      ]
     },
     "metadata": {},
     "output_type": "display_data"
    }
   ],
   "source": [
    "exam1 %>% \n",
    "    mutate(total = math + english + science,\n",
    "          mean = total/3) %>% \n",
    "    head"
   ]
  },
  {
   "cell_type": "markdown",
   "metadata": {},
   "source": [
    "### mutate() 와 ifelse() 적용하기"
   ]
  },
  {
   "cell_type": "code",
   "execution_count": 6,
   "metadata": {},
   "outputs": [
    {
     "data": {
      "text/html": [
       "<table>\n",
       "<thead><tr><th scope=col>id</th><th scope=col>class</th><th scope=col>math</th><th scope=col>english</th><th scope=col>science</th><th scope=col>test</th></tr></thead>\n",
       "<tbody>\n",
       "\t<tr><td>1   </td><td>1   </td><td>50  </td><td>98  </td><td>50  </td><td>fail</td></tr>\n",
       "\t<tr><td>2   </td><td>1   </td><td>60  </td><td>97  </td><td>60  </td><td>pass</td></tr>\n",
       "\t<tr><td>3   </td><td>1   </td><td>45  </td><td>86  </td><td>78  </td><td>pass</td></tr>\n",
       "\t<tr><td>4   </td><td>1   </td><td>30  </td><td>98  </td><td>58  </td><td>fail</td></tr>\n",
       "\t<tr><td>5   </td><td>2   </td><td>25  </td><td>80  </td><td>65  </td><td>pass</td></tr>\n",
       "\t<tr><td>6   </td><td>2   </td><td>50  </td><td>89  </td><td>98  </td><td>pass</td></tr>\n",
       "</tbody>\n",
       "</table>\n"
      ],
      "text/latex": [
       "\\begin{tabular}{r|llllll}\n",
       " id & class & math & english & science & test\\\\\n",
       "\\hline\n",
       "\t 1    & 1    & 50   & 98   & 50   & fail\\\\\n",
       "\t 2    & 1    & 60   & 97   & 60   & pass\\\\\n",
       "\t 3    & 1    & 45   & 86   & 78   & pass\\\\\n",
       "\t 4    & 1    & 30   & 98   & 58   & fail\\\\\n",
       "\t 5    & 2    & 25   & 80   & 65   & pass\\\\\n",
       "\t 6    & 2    & 50   & 89   & 98   & pass\\\\\n",
       "\\end{tabular}\n"
      ],
      "text/markdown": [
       "\n",
       "id | class | math | english | science | test | \n",
       "|---|---|---|---|---|---|\n",
       "| 1    | 1    | 50   | 98   | 50   | fail | \n",
       "| 2    | 1    | 60   | 97   | 60   | pass | \n",
       "| 3    | 1    | 45   | 86   | 78   | pass | \n",
       "| 4    | 1    | 30   | 98   | 58   | fail | \n",
       "| 5    | 2    | 25   | 80   | 65   | pass | \n",
       "| 6    | 2    | 50   | 89   | 98   | pass | \n",
       "\n",
       "\n"
      ],
      "text/plain": [
       "  id class math english science test\n",
       "1 1  1     50   98      50      fail\n",
       "2 2  1     60   97      60      pass\n",
       "3 3  1     45   86      78      pass\n",
       "4 4  1     30   98      58      fail\n",
       "5 5  2     25   80      65      pass\n",
       "6 6  2     50   89      98      pass"
      ]
     },
     "metadata": {},
     "output_type": "display_data"
    }
   ],
   "source": [
    "exam1 %>%\n",
    "    mutate(test = ifelse(science >= 60, \"pass\", \"fail\")) %>% \n",
    "    head"
   ]
  },
  {
   "cell_type": "markdown",
   "metadata": {},
   "source": [
    "### 추가한 변수를 `dplyr` 코드에 바로 활용하기"
   ]
  },
  {
   "cell_type": "code",
   "execution_count": 7,
   "metadata": {},
   "outputs": [
    {
     "data": {
      "text/html": [
       "<table>\n",
       "<thead><tr><th scope=col>id</th><th scope=col>class</th><th scope=col>math</th><th scope=col>english</th><th scope=col>science</th><th scope=col>total</th></tr></thead>\n",
       "<tbody>\n",
       "\t<tr><td> 9 </td><td>3  </td><td>20 </td><td>98 </td><td>15 </td><td>133</td></tr>\n",
       "\t<tr><td>14 </td><td>4  </td><td>48 </td><td>87 </td><td>12 </td><td>147</td></tr>\n",
       "\t<tr><td>12 </td><td>3  </td><td>45 </td><td>85 </td><td>32 </td><td>162</td></tr>\n",
       "\t<tr><td> 5 </td><td>2  </td><td>25 </td><td>80 </td><td>65 </td><td>170</td></tr>\n",
       "\t<tr><td> 4 </td><td>1  </td><td>30 </td><td>98 </td><td>58 </td><td>186</td></tr>\n",
       "\t<tr><td> 8 </td><td>2  </td><td>90 </td><td>78 </td><td>25 </td><td>193</td></tr>\n",
       "</tbody>\n",
       "</table>\n"
      ],
      "text/latex": [
       "\\begin{tabular}{r|llllll}\n",
       " id & class & math & english & science & total\\\\\n",
       "\\hline\n",
       "\t  9  & 3   & 20  & 98  & 15  & 133\\\\\n",
       "\t 14  & 4   & 48  & 87  & 12  & 147\\\\\n",
       "\t 12  & 3   & 45  & 85  & 32  & 162\\\\\n",
       "\t  5  & 2   & 25  & 80  & 65  & 170\\\\\n",
       "\t  4  & 1   & 30  & 98  & 58  & 186\\\\\n",
       "\t  8  & 2   & 90  & 78  & 25  & 193\\\\\n",
       "\\end{tabular}\n"
      ],
      "text/markdown": [
       "\n",
       "id | class | math | english | science | total | \n",
       "|---|---|---|---|---|---|\n",
       "|  9  | 3   | 20  | 98  | 15  | 133 | \n",
       "| 14  | 4   | 48  | 87  | 12  | 147 | \n",
       "| 12  | 3   | 45  | 85  | 32  | 162 | \n",
       "|  5  | 2   | 25  | 80  | 65  | 170 | \n",
       "|  4  | 1   | 30  | 98  | 58  | 186 | \n",
       "|  8  | 2   | 90  | 78  | 25  | 193 | \n",
       "\n",
       "\n"
      ],
      "text/plain": [
       "  id class math english science total\n",
       "1  9 3     20   98      15      133  \n",
       "2 14 4     48   87      12      147  \n",
       "3 12 3     45   85      32      162  \n",
       "4  5 2     25   80      65      170  \n",
       "5  4 1     30   98      58      186  \n",
       "6  8 2     90   78      25      193  "
      ]
     },
     "metadata": {},
     "output_type": "display_data"
    }
   ],
   "source": [
    "exam1 %>%  \n",
    "    mutate(total = math + english + science) %>% \n",
    "    arrange(total) %>% \n",
    "    head"
   ]
  },
  {
   "cell_type": "markdown",
   "metadata": {},
   "source": [
    "# 6-6. 집단별로 요약하기\n",
    "- summarise\n",
    "- group_by\n",
    "<img src='./data/03.png'>"
   ]
  },
  {
   "cell_type": "markdown",
   "metadata": {},
   "source": [
    "### 요약하기"
   ]
  },
  {
   "cell_type": "code",
   "execution_count": 8,
   "metadata": {},
   "outputs": [
    {
     "data": {
      "text/html": [
       "<table>\n",
       "<thead><tr><th scope=col>mean_math</th></tr></thead>\n",
       "<tbody>\n",
       "\t<tr><td>57.45</td></tr>\n",
       "</tbody>\n",
       "</table>\n"
      ],
      "text/latex": [
       "\\begin{tabular}{r|l}\n",
       " mean\\_math\\\\\n",
       "\\hline\n",
       "\t 57.45\\\\\n",
       "\\end{tabular}\n"
      ],
      "text/markdown": [
       "\n",
       "mean_math | \n",
       "|---|\n",
       "| 57.45 | \n",
       "\n",
       "\n"
      ],
      "text/plain": [
       "  mean_math\n",
       "1 57.45    "
      ]
     },
     "metadata": {},
     "output_type": "display_data"
    }
   ],
   "source": [
    "# summarise\n",
    "exam1 %>% summarise(mean_math=mean(math))"
   ]
  },
  {
   "cell_type": "markdown",
   "metadata": {},
   "source": [
    "### 집단별로 요약하기"
   ]
  },
  {
   "cell_type": "code",
   "execution_count": 9,
   "metadata": {},
   "outputs": [
    {
     "data": {
      "text/html": [
       "<table>\n",
       "<thead><tr><th scope=col>class</th><th scope=col>mean_math</th></tr></thead>\n",
       "<tbody>\n",
       "\t<tr><td>1    </td><td>46.25</td></tr>\n",
       "\t<tr><td>2    </td><td>61.25</td></tr>\n",
       "\t<tr><td>3    </td><td>45.00</td></tr>\n",
       "\t<tr><td>4    </td><td>56.75</td></tr>\n",
       "\t<tr><td>5    </td><td>78.00</td></tr>\n",
       "</tbody>\n",
       "</table>\n"
      ],
      "text/latex": [
       "\\begin{tabular}{r|ll}\n",
       " class & mean\\_math\\\\\n",
       "\\hline\n",
       "\t 1     & 46.25\\\\\n",
       "\t 2     & 61.25\\\\\n",
       "\t 3     & 45.00\\\\\n",
       "\t 4     & 56.75\\\\\n",
       "\t 5     & 78.00\\\\\n",
       "\\end{tabular}\n"
      ],
      "text/markdown": [
       "\n",
       "class | mean_math | \n",
       "|---|---|---|---|---|\n",
       "| 1     | 46.25 | \n",
       "| 2     | 61.25 | \n",
       "| 3     | 45.00 | \n",
       "| 4     | 56.75 | \n",
       "| 5     | 78.00 | \n",
       "\n",
       "\n"
      ],
      "text/plain": [
       "  class mean_math\n",
       "1 1     46.25    \n",
       "2 2     61.25    \n",
       "3 3     45.00    \n",
       "4 4     56.75    \n",
       "5 5     78.00    "
      ]
     },
     "metadata": {},
     "output_type": "display_data"
    }
   ],
   "source": [
    "# group_by, summarise\n",
    "exam1 %>% \n",
    "    group_by(class) %>% \n",
    "    summarise(mean_math = mean(math))"
   ]
  },
  {
   "cell_type": "markdown",
   "metadata": {},
   "source": [
    "### 여러 요약통계량 한번에 산출하기"
   ]
  },
  {
   "cell_type": "code",
   "execution_count": 10,
   "metadata": {},
   "outputs": [
    {
     "data": {
      "text/html": [
       "<table>\n",
       "<thead><tr><th scope=col>class</th><th scope=col>mean_math</th><th scope=col>sum_math</th><th scope=col>median_math</th><th scope=col>n</th></tr></thead>\n",
       "<tbody>\n",
       "\t<tr><td>1    </td><td>46.25</td><td>185  </td><td>47.5 </td><td>4    </td></tr>\n",
       "\t<tr><td>2    </td><td>61.25</td><td>245  </td><td>65.0 </td><td>4    </td></tr>\n",
       "\t<tr><td>3    </td><td>45.00</td><td>180  </td><td>47.5 </td><td>4    </td></tr>\n",
       "\t<tr><td>4    </td><td>56.75</td><td>227  </td><td>53.0 </td><td>4    </td></tr>\n",
       "\t<tr><td>5    </td><td>78.00</td><td>312  </td><td>79.0 </td><td>4    </td></tr>\n",
       "</tbody>\n",
       "</table>\n"
      ],
      "text/latex": [
       "\\begin{tabular}{r|lllll}\n",
       " class & mean\\_math & sum\\_math & median\\_math & n\\\\\n",
       "\\hline\n",
       "\t 1     & 46.25 & 185   & 47.5  & 4    \\\\\n",
       "\t 2     & 61.25 & 245   & 65.0  & 4    \\\\\n",
       "\t 3     & 45.00 & 180   & 47.5  & 4    \\\\\n",
       "\t 4     & 56.75 & 227   & 53.0  & 4    \\\\\n",
       "\t 5     & 78.00 & 312   & 79.0  & 4    \\\\\n",
       "\\end{tabular}\n"
      ],
      "text/markdown": [
       "\n",
       "class | mean_math | sum_math | median_math | n | \n",
       "|---|---|---|---|---|\n",
       "| 1     | 46.25 | 185   | 47.5  | 4     | \n",
       "| 2     | 61.25 | 245   | 65.0  | 4     | \n",
       "| 3     | 45.00 | 180   | 47.5  | 4     | \n",
       "| 4     | 56.75 | 227   | 53.0  | 4     | \n",
       "| 5     | 78.00 | 312   | 79.0  | 4     | \n",
       "\n",
       "\n"
      ],
      "text/plain": [
       "  class mean_math sum_math median_math n\n",
       "1 1     46.25     185      47.5        4\n",
       "2 2     61.25     245      65.0        4\n",
       "3 3     45.00     180      47.5        4\n",
       "4 4     56.75     227      53.0        4\n",
       "5 5     78.00     312      79.0        4"
      ]
     },
     "metadata": {},
     "output_type": "display_data"
    }
   ],
   "source": [
    "exam1  %>% \n",
    "    group_by(class) %>% \n",
    "    summarise(mean_math = mean(math),\n",
    "              sum_math = sum(math),\n",
    "              median_math = median(math),\n",
    "              n = n())"
   ]
  },
  {
   "cell_type": "markdown",
   "metadata": {},
   "source": [
    "### 각 집단별로 다시 집단 나누기"
   ]
  },
  {
   "cell_type": "code",
   "execution_count": 13,
   "metadata": {},
   "outputs": [
    {
     "data": {
      "text/html": [
       "<table>\n",
       "<thead><tr><th scope=col>manufacturer</th><th scope=col>model</th><th scope=col>displ</th><th scope=col>year</th><th scope=col>cyl</th><th scope=col>trans</th><th scope=col>drv</th><th scope=col>cty</th><th scope=col>hwy</th><th scope=col>fl</th><th scope=col>class</th></tr></thead>\n",
       "<tbody>\n",
       "\t<tr><td>audi      </td><td>a4        </td><td>1.8       </td><td>1999      </td><td>4         </td><td>auto(l5)  </td><td>f         </td><td>18        </td><td>29        </td><td>p         </td><td>compact   </td></tr>\n",
       "\t<tr><td>audi      </td><td>a4        </td><td>1.8       </td><td>1999      </td><td>4         </td><td>manual(m5)</td><td>f         </td><td>21        </td><td>29        </td><td>p         </td><td>compact   </td></tr>\n",
       "\t<tr><td>audi      </td><td>a4        </td><td>2.0       </td><td>2008      </td><td>4         </td><td>manual(m6)</td><td>f         </td><td>20        </td><td>31        </td><td>p         </td><td>compact   </td></tr>\n",
       "\t<tr><td>audi      </td><td>a4        </td><td>2.0       </td><td>2008      </td><td>4         </td><td>auto(av)  </td><td>f         </td><td>21        </td><td>30        </td><td>p         </td><td>compact   </td></tr>\n",
       "\t<tr><td>audi      </td><td>a4        </td><td>2.8       </td><td>1999      </td><td>6         </td><td>auto(l5)  </td><td>f         </td><td>16        </td><td>26        </td><td>p         </td><td>compact   </td></tr>\n",
       "\t<tr><td>audi      </td><td>a4        </td><td>2.8       </td><td>1999      </td><td>6         </td><td>manual(m5)</td><td>f         </td><td>18        </td><td>26        </td><td>p         </td><td>compact   </td></tr>\n",
       "</tbody>\n",
       "</table>\n"
      ],
      "text/latex": [
       "\\begin{tabular}{r|lllllllllll}\n",
       " manufacturer & model & displ & year & cyl & trans & drv & cty & hwy & fl & class\\\\\n",
       "\\hline\n",
       "\t audi       & a4         & 1.8        & 1999       & 4          & auto(l5)   & f          & 18         & 29         & p          & compact   \\\\\n",
       "\t audi       & a4         & 1.8        & 1999       & 4          & manual(m5) & f          & 21         & 29         & p          & compact   \\\\\n",
       "\t audi       & a4         & 2.0        & 2008       & 4          & manual(m6) & f          & 20         & 31         & p          & compact   \\\\\n",
       "\t audi       & a4         & 2.0        & 2008       & 4          & auto(av)   & f          & 21         & 30         & p          & compact   \\\\\n",
       "\t audi       & a4         & 2.8        & 1999       & 6          & auto(l5)   & f          & 16         & 26         & p          & compact   \\\\\n",
       "\t audi       & a4         & 2.8        & 1999       & 6          & manual(m5) & f          & 18         & 26         & p          & compact   \\\\\n",
       "\\end{tabular}\n"
      ],
      "text/markdown": [
       "\n",
       "manufacturer | model | displ | year | cyl | trans | drv | cty | hwy | fl | class | \n",
       "|---|---|---|---|---|---|\n",
       "| audi       | a4         | 1.8        | 1999       | 4          | auto(l5)   | f          | 18         | 29         | p          | compact    | \n",
       "| audi       | a4         | 1.8        | 1999       | 4          | manual(m5) | f          | 21         | 29         | p          | compact    | \n",
       "| audi       | a4         | 2.0        | 2008       | 4          | manual(m6) | f          | 20         | 31         | p          | compact    | \n",
       "| audi       | a4         | 2.0        | 2008       | 4          | auto(av)   | f          | 21         | 30         | p          | compact    | \n",
       "| audi       | a4         | 2.8        | 1999       | 6          | auto(l5)   | f          | 16         | 26         | p          | compact    | \n",
       "| audi       | a4         | 2.8        | 1999       | 6          | manual(m5) | f          | 18         | 26         | p          | compact    | \n",
       "\n",
       "\n"
      ],
      "text/plain": [
       "  manufacturer model displ year cyl trans      drv cty hwy fl class  \n",
       "1 audi         a4    1.8   1999 4   auto(l5)   f   18  29  p  compact\n",
       "2 audi         a4    1.8   1999 4   manual(m5) f   21  29  p  compact\n",
       "3 audi         a4    2.0   2008 4   manual(m6) f   20  31  p  compact\n",
       "4 audi         a4    2.0   2008 4   auto(av)   f   21  30  p  compact\n",
       "5 audi         a4    2.8   1999 6   auto(l5)   f   16  26  p  compact\n",
       "6 audi         a4    2.8   1999 6   manual(m5) f   18  26  p  compact"
      ]
     },
     "metadata": {},
     "output_type": "display_data"
    }
   ],
   "source": [
    "mpg <- as.data.frame(ggplot2::mpg)\n",
    "head(mpg)"
   ]
  },
  {
   "cell_type": "code",
   "execution_count": 14,
   "metadata": {},
   "outputs": [
    {
     "data": {
      "text/html": [
       "<table>\n",
       "<thead><tr><th scope=col>manufacturer</th><th scope=col>drv</th><th scope=col>mean_cty</th></tr></thead>\n",
       "<tbody>\n",
       "\t<tr><td>audi     </td><td>4        </td><td>16.81818 </td></tr>\n",
       "\t<tr><td>audi     </td><td>f        </td><td>18.85714 </td></tr>\n",
       "\t<tr><td>chevrolet</td><td>4        </td><td>12.50000 </td></tr>\n",
       "\t<tr><td>chevrolet</td><td>f        </td><td>18.80000 </td></tr>\n",
       "\t<tr><td>chevrolet</td><td>r        </td><td>14.10000 </td></tr>\n",
       "\t<tr><td>dodge    </td><td>4        </td><td>12.00000 </td></tr>\n",
       "\t<tr><td>dodge    </td><td>f        </td><td>15.81818 </td></tr>\n",
       "\t<tr><td>ford     </td><td>4        </td><td>13.30769 </td></tr>\n",
       "\t<tr><td>ford     </td><td>r        </td><td>14.75000 </td></tr>\n",
       "\t<tr><td>honda    </td><td>f        </td><td>24.44444 </td></tr>\n",
       "</tbody>\n",
       "</table>\n"
      ],
      "text/latex": [
       "\\begin{tabular}{r|lll}\n",
       " manufacturer & drv & mean\\_cty\\\\\n",
       "\\hline\n",
       "\t audi      & 4         & 16.81818 \\\\\n",
       "\t audi      & f         & 18.85714 \\\\\n",
       "\t chevrolet & 4         & 12.50000 \\\\\n",
       "\t chevrolet & f         & 18.80000 \\\\\n",
       "\t chevrolet & r         & 14.10000 \\\\\n",
       "\t dodge     & 4         & 12.00000 \\\\\n",
       "\t dodge     & f         & 15.81818 \\\\\n",
       "\t ford      & 4         & 13.30769 \\\\\n",
       "\t ford      & r         & 14.75000 \\\\\n",
       "\t honda     & f         & 24.44444 \\\\\n",
       "\\end{tabular}\n"
      ],
      "text/markdown": [
       "\n",
       "manufacturer | drv | mean_cty | \n",
       "|---|---|---|---|---|---|---|---|---|---|\n",
       "| audi      | 4         | 16.81818  | \n",
       "| audi      | f         | 18.85714  | \n",
       "| chevrolet | 4         | 12.50000  | \n",
       "| chevrolet | f         | 18.80000  | \n",
       "| chevrolet | r         | 14.10000  | \n",
       "| dodge     | 4         | 12.00000  | \n",
       "| dodge     | f         | 15.81818  | \n",
       "| ford      | 4         | 13.30769  | \n",
       "| ford      | r         | 14.75000  | \n",
       "| honda     | f         | 24.44444  | \n",
       "\n",
       "\n"
      ],
      "text/plain": [
       "   manufacturer drv mean_cty\n",
       "1  audi         4   16.81818\n",
       "2  audi         f   18.85714\n",
       "3  chevrolet    4   12.50000\n",
       "4  chevrolet    f   18.80000\n",
       "5  chevrolet    r   14.10000\n",
       "6  dodge        4   12.00000\n",
       "7  dodge        f   15.81818\n",
       "8  ford         4   13.30769\n",
       "9  ford         r   14.75000\n",
       "10 honda        f   24.44444"
      ]
     },
     "metadata": {},
     "output_type": "display_data"
    }
   ],
   "source": [
    "mpg %>% \n",
    "    group_by(manufacturer, drv) %>% \n",
    "    summarise(mean_cty = mean(cty)) %>% \n",
    "    head(10)"
   ]
  },
  {
   "cell_type": "markdown",
   "metadata": {},
   "source": [
    "### dplyr 조합하기\n",
    "* mpg 데이터 이용.\n",
    "\n",
    "#### 1. 회사별로 분리 -> group_by\n",
    "#### 2. suv 추출 -> filter\n",
    "#### 3. 통합 연비 변수 생성 -> mutate\n",
    "#### 4. 통합 연비 평균 산출 -> summarise\n",
    "#### 5. 내림차순 정렬 -> arrange\n",
    "#### 6. 1~5위까지 출력 -> head"
   ]
  },
  {
   "cell_type": "code",
   "execution_count": 15,
   "metadata": {},
   "outputs": [
    {
     "data": {
      "text/html": [
       "<table>\n",
       "<thead><tr><th scope=col>manufacturer</th><th scope=col>mean_tot</th></tr></thead>\n",
       "<tbody>\n",
       "\t<tr><td>subaru  </td><td>21.91667</td></tr>\n",
       "\t<tr><td>toyota  </td><td>16.31250</td></tr>\n",
       "\t<tr><td>nissan  </td><td>15.87500</td></tr>\n",
       "\t<tr><td>mercury </td><td>15.62500</td></tr>\n",
       "\t<tr><td>jeep    </td><td>15.56250</td></tr>\n",
       "</tbody>\n",
       "</table>\n"
      ],
      "text/latex": [
       "\\begin{tabular}{r|ll}\n",
       " manufacturer & mean\\_tot\\\\\n",
       "\\hline\n",
       "\t subaru   & 21.91667\\\\\n",
       "\t toyota   & 16.31250\\\\\n",
       "\t nissan   & 15.87500\\\\\n",
       "\t mercury  & 15.62500\\\\\n",
       "\t jeep     & 15.56250\\\\\n",
       "\\end{tabular}\n"
      ],
      "text/markdown": [
       "\n",
       "manufacturer | mean_tot | \n",
       "|---|---|---|---|---|\n",
       "| subaru   | 21.91667 | \n",
       "| toyota   | 16.31250 | \n",
       "| nissan   | 15.87500 | \n",
       "| mercury  | 15.62500 | \n",
       "| jeep     | 15.56250 | \n",
       "\n",
       "\n"
      ],
      "text/plain": [
       "  manufacturer mean_tot\n",
       "1 subaru       21.91667\n",
       "2 toyota       16.31250\n",
       "3 nissan       15.87500\n",
       "4 mercury      15.62500\n",
       "5 jeep         15.56250"
      ]
     },
     "metadata": {},
     "output_type": "display_data"
    }
   ],
   "source": [
    "mpg %>% \n",
    "    group_by(manufacturer) %>% \n",
    "    filter(class=='suv') %>% \n",
    "    mutate(tot = (cty+hwy)/2) %>% \n",
    "    summarise(mean_tot = mean(tot)) %>% \n",
    "    arrange(desc(mean_tot)) %>% \n",
    "    head(5)"
   ]
  },
  {
   "cell_type": "markdown",
   "metadata": {},
   "source": [
    "# 6-7 데이터 합치기\n",
    "\n",
    "<img src='./data/04.png'>"
   ]
  },
  {
   "cell_type": "markdown",
   "metadata": {},
   "source": [
    "## 가로로 합치기"
   ]
  },
  {
   "cell_type": "code",
   "execution_count": 16,
   "metadata": {},
   "outputs": [
    {
     "data": {
      "text/html": [
       "<table>\n",
       "<thead><tr><th scope=col>id</th><th scope=col>midterm</th></tr></thead>\n",
       "<tbody>\n",
       "\t<tr><td>1 </td><td>60</td></tr>\n",
       "\t<tr><td>2 </td><td>80</td></tr>\n",
       "\t<tr><td>3 </td><td>70</td></tr>\n",
       "\t<tr><td>4 </td><td>90</td></tr>\n",
       "\t<tr><td>5 </td><td>85</td></tr>\n",
       "</tbody>\n",
       "</table>\n"
      ],
      "text/latex": [
       "\\begin{tabular}{r|ll}\n",
       " id & midterm\\\\\n",
       "\\hline\n",
       "\t 1  & 60\\\\\n",
       "\t 2  & 80\\\\\n",
       "\t 3  & 70\\\\\n",
       "\t 4  & 90\\\\\n",
       "\t 5  & 85\\\\\n",
       "\\end{tabular}\n"
      ],
      "text/markdown": [
       "\n",
       "id | midterm | \n",
       "|---|---|---|---|---|\n",
       "| 1  | 60 | \n",
       "| 2  | 80 | \n",
       "| 3  | 70 | \n",
       "| 4  | 90 | \n",
       "| 5  | 85 | \n",
       "\n",
       "\n"
      ],
      "text/plain": [
       "  id midterm\n",
       "1 1  60     \n",
       "2 2  80     \n",
       "3 3  70     \n",
       "4 4  90     \n",
       "5 5  85     "
      ]
     },
     "metadata": {},
     "output_type": "display_data"
    },
    {
     "data": {
      "text/html": [
       "<table>\n",
       "<thead><tr><th scope=col>id</th><th scope=col>final</th></tr></thead>\n",
       "<tbody>\n",
       "\t<tr><td>1 </td><td>70</td></tr>\n",
       "\t<tr><td>2 </td><td>83</td></tr>\n",
       "\t<tr><td>3 </td><td>65</td></tr>\n",
       "\t<tr><td>4 </td><td>95</td></tr>\n",
       "\t<tr><td>5 </td><td>80</td></tr>\n",
       "</tbody>\n",
       "</table>\n"
      ],
      "text/latex": [
       "\\begin{tabular}{r|ll}\n",
       " id & final\\\\\n",
       "\\hline\n",
       "\t 1  & 70\\\\\n",
       "\t 2  & 83\\\\\n",
       "\t 3  & 65\\\\\n",
       "\t 4  & 95\\\\\n",
       "\t 5  & 80\\\\\n",
       "\\end{tabular}\n"
      ],
      "text/markdown": [
       "\n",
       "id | final | \n",
       "|---|---|---|---|---|\n",
       "| 1  | 70 | \n",
       "| 2  | 83 | \n",
       "| 3  | 65 | \n",
       "| 4  | 95 | \n",
       "| 5  | 80 | \n",
       "\n",
       "\n"
      ],
      "text/plain": [
       "  id final\n",
       "1 1  70   \n",
       "2 2  83   \n",
       "3 3  65   \n",
       "4 4  95   \n",
       "5 5  80   "
      ]
     },
     "metadata": {},
     "output_type": "display_data"
    }
   ],
   "source": [
    "test1 <- data.frame(id = c(1, 2, 3, 4, 5),\n",
    "midterm = c(60, 80, 70, 90, 85))\n",
    "test1\n",
    "\n",
    "test2 <- data.frame(id = c(1, 2, 3, 4, 5),\n",
    "final = c(70, 83, 65, 95, 80))\n",
    "test2"
   ]
  },
  {
   "cell_type": "code",
   "execution_count": 17,
   "metadata": {},
   "outputs": [
    {
     "data": {
      "text/html": [
       "<table>\n",
       "<thead><tr><th scope=col>id</th><th scope=col>midterm</th><th scope=col>final</th></tr></thead>\n",
       "<tbody>\n",
       "\t<tr><td>1 </td><td>60</td><td>70</td></tr>\n",
       "\t<tr><td>2 </td><td>80</td><td>83</td></tr>\n",
       "\t<tr><td>3 </td><td>70</td><td>65</td></tr>\n",
       "\t<tr><td>4 </td><td>90</td><td>95</td></tr>\n",
       "\t<tr><td>5 </td><td>85</td><td>80</td></tr>\n",
       "</tbody>\n",
       "</table>\n"
      ],
      "text/latex": [
       "\\begin{tabular}{r|lll}\n",
       " id & midterm & final\\\\\n",
       "\\hline\n",
       "\t 1  & 60 & 70\\\\\n",
       "\t 2  & 80 & 83\\\\\n",
       "\t 3  & 70 & 65\\\\\n",
       "\t 4  & 90 & 95\\\\\n",
       "\t 5  & 85 & 80\\\\\n",
       "\\end{tabular}\n"
      ],
      "text/markdown": [
       "\n",
       "id | midterm | final | \n",
       "|---|---|---|---|---|\n",
       "| 1  | 60 | 70 | \n",
       "| 2  | 80 | 83 | \n",
       "| 3  | 70 | 65 | \n",
       "| 4  | 90 | 95 | \n",
       "| 5  | 85 | 80 | \n",
       "\n",
       "\n"
      ],
      "text/plain": [
       "  id midterm final\n",
       "1 1  60      70   \n",
       "2 2  80      83   \n",
       "3 3  70      65   \n",
       "4 4  90      95   \n",
       "5 5  85      80   "
      ]
     },
     "metadata": {},
     "output_type": "display_data"
    }
   ],
   "source": [
    "total <- left_join(test1, test2, by = \"id\")\n",
    "total"
   ]
  },
  {
   "cell_type": "markdown",
   "metadata": {},
   "source": [
    "###  다른 데이터 활용해 변수 추가하기"
   ]
  },
  {
   "cell_type": "code",
   "execution_count": 18,
   "metadata": {},
   "outputs": [
    {
     "data": {
      "text/html": [
       "<table>\n",
       "<thead><tr><th scope=col>class</th><th scope=col>teacher</th></tr></thead>\n",
       "<tbody>\n",
       "\t<tr><td>1   </td><td>kim </td></tr>\n",
       "\t<tr><td>2   </td><td>lee </td></tr>\n",
       "\t<tr><td>3   </td><td>park</td></tr>\n",
       "\t<tr><td>4   </td><td>choi</td></tr>\n",
       "\t<tr><td>5   </td><td>jung</td></tr>\n",
       "</tbody>\n",
       "</table>\n"
      ],
      "text/latex": [
       "\\begin{tabular}{r|ll}\n",
       " class & teacher\\\\\n",
       "\\hline\n",
       "\t 1    & kim \\\\\n",
       "\t 2    & lee \\\\\n",
       "\t 3    & park\\\\\n",
       "\t 4    & choi\\\\\n",
       "\t 5    & jung\\\\\n",
       "\\end{tabular}\n"
      ],
      "text/markdown": [
       "\n",
       "class | teacher | \n",
       "|---|---|---|---|---|\n",
       "| 1    | kim  | \n",
       "| 2    | lee  | \n",
       "| 3    | park | \n",
       "| 4    | choi | \n",
       "| 5    | jung | \n",
       "\n",
       "\n"
      ],
      "text/plain": [
       "  class teacher\n",
       "1 1     kim    \n",
       "2 2     lee    \n",
       "3 3     park   \n",
       "4 4     choi   \n",
       "5 5     jung   "
      ]
     },
     "metadata": {},
     "output_type": "display_data"
    }
   ],
   "source": [
    "name <- data.frame(class = c(1, 2, 3, 4, 5),\n",
    "teacher = c(\"kim\", \"lee\", \"park\", \"choi\", \"jung\"))\n",
    "name"
   ]
  },
  {
   "cell_type": "code",
   "execution_count": 19,
   "metadata": {},
   "outputs": [
    {
     "data": {
      "text/html": [
       "<table>\n",
       "<thead><tr><th scope=col>id</th><th scope=col>class</th><th scope=col>math</th><th scope=col>english</th><th scope=col>science</th><th scope=col>teacher</th></tr></thead>\n",
       "<tbody>\n",
       "\t<tr><td> 1  </td><td>1   </td><td>50  </td><td>98  </td><td>50  </td><td>kim </td></tr>\n",
       "\t<tr><td> 2  </td><td>1   </td><td>60  </td><td>97  </td><td>60  </td><td>kim </td></tr>\n",
       "\t<tr><td> 3  </td><td>1   </td><td>45  </td><td>86  </td><td>78  </td><td>kim </td></tr>\n",
       "\t<tr><td> 4  </td><td>1   </td><td>30  </td><td>98  </td><td>58  </td><td>kim </td></tr>\n",
       "\t<tr><td> 5  </td><td>2   </td><td>25  </td><td>80  </td><td>65  </td><td>lee </td></tr>\n",
       "\t<tr><td> 6  </td><td>2   </td><td>50  </td><td>89  </td><td>98  </td><td>lee </td></tr>\n",
       "\t<tr><td> 7  </td><td>2   </td><td>80  </td><td>90  </td><td>45  </td><td>lee </td></tr>\n",
       "\t<tr><td> 8  </td><td>2   </td><td>90  </td><td>78  </td><td>25  </td><td>lee </td></tr>\n",
       "\t<tr><td> 9  </td><td>3   </td><td>20  </td><td>98  </td><td>15  </td><td>park</td></tr>\n",
       "\t<tr><td>10  </td><td>3   </td><td>50  </td><td>98  </td><td>45  </td><td>park</td></tr>\n",
       "\t<tr><td>11  </td><td>3   </td><td>65  </td><td>65  </td><td>65  </td><td>park</td></tr>\n",
       "\t<tr><td>12  </td><td>3   </td><td>45  </td><td>85  </td><td>32  </td><td>park</td></tr>\n",
       "\t<tr><td>13  </td><td>4   </td><td>46  </td><td>98  </td><td>65  </td><td>choi</td></tr>\n",
       "\t<tr><td>14  </td><td>4   </td><td>48  </td><td>87  </td><td>12  </td><td>choi</td></tr>\n",
       "\t<tr><td>15  </td><td>4   </td><td>75  </td><td>56  </td><td>78  </td><td>choi</td></tr>\n",
       "\t<tr><td>16  </td><td>4   </td><td>58  </td><td>98  </td><td>65  </td><td>choi</td></tr>\n",
       "\t<tr><td>17  </td><td>5   </td><td>65  </td><td>68  </td><td>98  </td><td>jung</td></tr>\n",
       "\t<tr><td>18  </td><td>5   </td><td>80  </td><td>78  </td><td>90  </td><td>jung</td></tr>\n",
       "\t<tr><td>19  </td><td>5   </td><td>89  </td><td>68  </td><td>87  </td><td>jung</td></tr>\n",
       "\t<tr><td>20  </td><td>5   </td><td>78  </td><td>83  </td><td>58  </td><td>jung</td></tr>\n",
       "</tbody>\n",
       "</table>\n"
      ],
      "text/latex": [
       "\\begin{tabular}{r|llllll}\n",
       " id & class & math & english & science & teacher\\\\\n",
       "\\hline\n",
       "\t  1   & 1    & 50   & 98   & 50   & kim \\\\\n",
       "\t  2   & 1    & 60   & 97   & 60   & kim \\\\\n",
       "\t  3   & 1    & 45   & 86   & 78   & kim \\\\\n",
       "\t  4   & 1    & 30   & 98   & 58   & kim \\\\\n",
       "\t  5   & 2    & 25   & 80   & 65   & lee \\\\\n",
       "\t  6   & 2    & 50   & 89   & 98   & lee \\\\\n",
       "\t  7   & 2    & 80   & 90   & 45   & lee \\\\\n",
       "\t  8   & 2    & 90   & 78   & 25   & lee \\\\\n",
       "\t  9   & 3    & 20   & 98   & 15   & park\\\\\n",
       "\t 10   & 3    & 50   & 98   & 45   & park\\\\\n",
       "\t 11   & 3    & 65   & 65   & 65   & park\\\\\n",
       "\t 12   & 3    & 45   & 85   & 32   & park\\\\\n",
       "\t 13   & 4    & 46   & 98   & 65   & choi\\\\\n",
       "\t 14   & 4    & 48   & 87   & 12   & choi\\\\\n",
       "\t 15   & 4    & 75   & 56   & 78   & choi\\\\\n",
       "\t 16   & 4    & 58   & 98   & 65   & choi\\\\\n",
       "\t 17   & 5    & 65   & 68   & 98   & jung\\\\\n",
       "\t 18   & 5    & 80   & 78   & 90   & jung\\\\\n",
       "\t 19   & 5    & 89   & 68   & 87   & jung\\\\\n",
       "\t 20   & 5    & 78   & 83   & 58   & jung\\\\\n",
       "\\end{tabular}\n"
      ],
      "text/markdown": [
       "\n",
       "id | class | math | english | science | teacher | \n",
       "|---|---|---|---|---|---|---|---|---|---|---|---|---|---|---|---|---|---|---|---|\n",
       "|  1   | 1    | 50   | 98   | 50   | kim  | \n",
       "|  2   | 1    | 60   | 97   | 60   | kim  | \n",
       "|  3   | 1    | 45   | 86   | 78   | kim  | \n",
       "|  4   | 1    | 30   | 98   | 58   | kim  | \n",
       "|  5   | 2    | 25   | 80   | 65   | lee  | \n",
       "|  6   | 2    | 50   | 89   | 98   | lee  | \n",
       "|  7   | 2    | 80   | 90   | 45   | lee  | \n",
       "|  8   | 2    | 90   | 78   | 25   | lee  | \n",
       "|  9   | 3    | 20   | 98   | 15   | park | \n",
       "| 10   | 3    | 50   | 98   | 45   | park | \n",
       "| 11   | 3    | 65   | 65   | 65   | park | \n",
       "| 12   | 3    | 45   | 85   | 32   | park | \n",
       "| 13   | 4    | 46   | 98   | 65   | choi | \n",
       "| 14   | 4    | 48   | 87   | 12   | choi | \n",
       "| 15   | 4    | 75   | 56   | 78   | choi | \n",
       "| 16   | 4    | 58   | 98   | 65   | choi | \n",
       "| 17   | 5    | 65   | 68   | 98   | jung | \n",
       "| 18   | 5    | 80   | 78   | 90   | jung | \n",
       "| 19   | 5    | 89   | 68   | 87   | jung | \n",
       "| 20   | 5    | 78   | 83   | 58   | jung | \n",
       "\n",
       "\n"
      ],
      "text/plain": [
       "   id class math english science teacher\n",
       "1   1 1     50   98      50      kim    \n",
       "2   2 1     60   97      60      kim    \n",
       "3   3 1     45   86      78      kim    \n",
       "4   4 1     30   98      58      kim    \n",
       "5   5 2     25   80      65      lee    \n",
       "6   6 2     50   89      98      lee    \n",
       "7   7 2     80   90      45      lee    \n",
       "8   8 2     90   78      25      lee    \n",
       "9   9 3     20   98      15      park   \n",
       "10 10 3     50   98      45      park   \n",
       "11 11 3     65   65      65      park   \n",
       "12 12 3     45   85      32      park   \n",
       "13 13 4     46   98      65      choi   \n",
       "14 14 4     48   87      12      choi   \n",
       "15 15 4     75   56      78      choi   \n",
       "16 16 4     58   98      65      choi   \n",
       "17 17 5     65   68      98      jung   \n",
       "18 18 5     80   78      90      jung   \n",
       "19 19 5     89   68      87      jung   \n",
       "20 20 5     78   83      58      jung   "
      ]
     },
     "metadata": {},
     "output_type": "display_data"
    }
   ],
   "source": [
    "exam1 <- read.csv(\"./data/csv_exam.csv\")\n",
    "exam_new <- left_join(exam1, name, by = \"class\")\n",
    "exam_new"
   ]
  },
  {
   "cell_type": "markdown",
   "metadata": {},
   "source": [
    "## 세로로 합치기"
   ]
  },
  {
   "cell_type": "code",
   "execution_count": 20,
   "metadata": {},
   "outputs": [
    {
     "data": {
      "text/html": [
       "<table>\n",
       "<thead><tr><th scope=col>id</th><th scope=col>test</th></tr></thead>\n",
       "<tbody>\n",
       "\t<tr><td>1 </td><td>60</td></tr>\n",
       "\t<tr><td>2 </td><td>80</td></tr>\n",
       "\t<tr><td>3 </td><td>70</td></tr>\n",
       "\t<tr><td>4 </td><td>90</td></tr>\n",
       "\t<tr><td>5 </td><td>85</td></tr>\n",
       "</tbody>\n",
       "</table>\n"
      ],
      "text/latex": [
       "\\begin{tabular}{r|ll}\n",
       " id & test\\\\\n",
       "\\hline\n",
       "\t 1  & 60\\\\\n",
       "\t 2  & 80\\\\\n",
       "\t 3  & 70\\\\\n",
       "\t 4  & 90\\\\\n",
       "\t 5  & 85\\\\\n",
       "\\end{tabular}\n"
      ],
      "text/markdown": [
       "\n",
       "id | test | \n",
       "|---|---|---|---|---|\n",
       "| 1  | 60 | \n",
       "| 2  | 80 | \n",
       "| 3  | 70 | \n",
       "| 4  | 90 | \n",
       "| 5  | 85 | \n",
       "\n",
       "\n"
      ],
      "text/plain": [
       "  id test\n",
       "1 1  60  \n",
       "2 2  80  \n",
       "3 3  70  \n",
       "4 4  90  \n",
       "5 5  85  "
      ]
     },
     "metadata": {},
     "output_type": "display_data"
    },
    {
     "data": {
      "text/html": [
       "<table>\n",
       "<thead><tr><th scope=col>id</th><th scope=col>test</th></tr></thead>\n",
       "<tbody>\n",
       "\t<tr><td> 6</td><td>70</td></tr>\n",
       "\t<tr><td> 7</td><td>83</td></tr>\n",
       "\t<tr><td> 8</td><td>65</td></tr>\n",
       "\t<tr><td> 9</td><td>95</td></tr>\n",
       "\t<tr><td>10</td><td>80</td></tr>\n",
       "</tbody>\n",
       "</table>\n"
      ],
      "text/latex": [
       "\\begin{tabular}{r|ll}\n",
       " id & test\\\\\n",
       "\\hline\n",
       "\t  6 & 70\\\\\n",
       "\t  7 & 83\\\\\n",
       "\t  8 & 65\\\\\n",
       "\t  9 & 95\\\\\n",
       "\t 10 & 80\\\\\n",
       "\\end{tabular}\n"
      ],
      "text/markdown": [
       "\n",
       "id | test | \n",
       "|---|---|---|---|---|\n",
       "|  6 | 70 | \n",
       "|  7 | 83 | \n",
       "|  8 | 65 | \n",
       "|  9 | 95 | \n",
       "| 10 | 80 | \n",
       "\n",
       "\n"
      ],
      "text/plain": [
       "  id test\n",
       "1  6 70  \n",
       "2  7 83  \n",
       "3  8 65  \n",
       "4  9 95  \n",
       "5 10 80  "
      ]
     },
     "metadata": {},
     "output_type": "display_data"
    }
   ],
   "source": [
    "group_a <- data.frame(id = c(1, 2, 3, 4, 5),\n",
    "test = c(60, 80, 70, 90, 85))\n",
    "group_a\n",
    "\n",
    "group_b <- data.frame(id = c(6, 7, 8, 9, 10),\n",
    "test = c(70, 83, 65, 95, 80))\n",
    "group_b"
   ]
  },
  {
   "cell_type": "code",
   "execution_count": 21,
   "metadata": {},
   "outputs": [
    {
     "data": {
      "text/html": [
       "<table>\n",
       "<thead><tr><th scope=col>id</th><th scope=col>test</th></tr></thead>\n",
       "<tbody>\n",
       "\t<tr><td> 1</td><td>60</td></tr>\n",
       "\t<tr><td> 2</td><td>80</td></tr>\n",
       "\t<tr><td> 3</td><td>70</td></tr>\n",
       "\t<tr><td> 4</td><td>90</td></tr>\n",
       "\t<tr><td> 5</td><td>85</td></tr>\n",
       "\t<tr><td> 6</td><td>70</td></tr>\n",
       "\t<tr><td> 7</td><td>83</td></tr>\n",
       "\t<tr><td> 8</td><td>65</td></tr>\n",
       "\t<tr><td> 9</td><td>95</td></tr>\n",
       "\t<tr><td>10</td><td>80</td></tr>\n",
       "</tbody>\n",
       "</table>\n"
      ],
      "text/latex": [
       "\\begin{tabular}{r|ll}\n",
       " id & test\\\\\n",
       "\\hline\n",
       "\t  1 & 60\\\\\n",
       "\t  2 & 80\\\\\n",
       "\t  3 & 70\\\\\n",
       "\t  4 & 90\\\\\n",
       "\t  5 & 85\\\\\n",
       "\t  6 & 70\\\\\n",
       "\t  7 & 83\\\\\n",
       "\t  8 & 65\\\\\n",
       "\t  9 & 95\\\\\n",
       "\t 10 & 80\\\\\n",
       "\\end{tabular}\n"
      ],
      "text/markdown": [
       "\n",
       "id | test | \n",
       "|---|---|---|---|---|---|---|---|---|---|\n",
       "|  1 | 60 | \n",
       "|  2 | 80 | \n",
       "|  3 | 70 | \n",
       "|  4 | 90 | \n",
       "|  5 | 85 | \n",
       "|  6 | 70 | \n",
       "|  7 | 83 | \n",
       "|  8 | 65 | \n",
       "|  9 | 95 | \n",
       "| 10 | 80 | \n",
       "\n",
       "\n"
      ],
      "text/plain": [
       "   id test\n",
       "1   1 60  \n",
       "2   2 80  \n",
       "3   3 70  \n",
       "4   4 90  \n",
       "5   5 85  \n",
       "6   6 70  \n",
       "7   7 83  \n",
       "8   8 65  \n",
       "9   9 95  \n",
       "10 10 80  "
      ]
     },
     "metadata": {},
     "output_type": "display_data"
    }
   ],
   "source": [
    "group_all <- bind_rows(group_a, group_b)\n",
    "group_all"
   ]
  },
  {
   "cell_type": "markdown",
   "metadata": {},
   "source": [
    "# 정리하기\n",
    "\n",
    "\n",
    "## 1.조건에 맞는 데이터만 추출하기\n",
    "```r\n",
    "exam %>% \n",
    "    filter(english >= 80)\n",
    "\n",
    "# 여러 조건 동시 충족\n",
    "exam %>% \n",
    "    filter(class == 1 & math >= 50)\n",
    "\n",
    "# 여러 조건 중 하나 이상 충족\n",
    "exam %>% \n",
    "    filter(math >= 90 | english >= 90) exam %>% \n",
    "    filter(class %in% c(1,3,5))\n",
    "```\n",
    "\n",
    "## 2.필요한 변수만 추출하기\n",
    "```r\n",
    "exam %>% \n",
    "    select(math)\n",
    "exam %>% \n",
    "    select(class, math, english)\n",
    "```\n",
    "\n",
    "## 3.함수 조합하기, 일부만 출력하기\n",
    "```r\n",
    "exam %>%\n",
    "    select(id, math) %>% \n",
    "    head(10)\n",
    "```\n",
    "\n",
    "## 4.순서대로 정렬하기\n",
    "\n",
    "```r\n",
    "exam %>% \n",
    "    arrange(math) # 오름차순 정렬\n",
    "\n",
    "exam %>% \n",
    "    arrange(desc(math)) # 내림차순 정렬\n",
    "\n",
    "exam %>% \n",
    "    arrange(class, math) # 여러 변수 기준 오름차순 정렬\n",
    "```\n",
    "\n",
    "## 5.파생변수 추가하기\n",
    "```r\n",
    "exam %>% \n",
    "    mutate(total = math + english + science) # 여러 파생변수 한 번에 추가하기\n",
    "\n",
    "exam %>%\n",
    "    mutate(total = math + english + science, mean = (math + english + science)/3) # mutate()에 ifelse() 적용하기\n",
    "\n",
    "exam %>% \n",
    "    mutate(test = ifelse(science >= 60, \"pass\", \"fail\")) # 추가한 변수를 dplyr 코드에 바로 활용하기\n",
    "\n",
    "exam %>%\n",
    "    mutate(total = math + english + science) %>%\n",
    "    arrange(total)\n",
    "```\n",
    "\n",
    "## 6.집단별로 요약하기\n",
    "```r\n",
    "exam %>%\n",
    "    group_by(class) %>% \n",
    "    summarise(mean_math = mean(math))\n",
    "\n",
    "# 각 집단별로 다시 집단 나누기\n",
    "mpg %>%\n",
    "    group_by(manufacturer, drv) %>% \n",
    "    summarise(mean_cty = mean(cty))\n",
    "```\n",
    "\n",
    "## 7.데이터 합치기 \n",
    "```r\n",
    "# 가로로 합치기\n",
    "total <- left_join(test1, test2, by = \"id\")\n",
    "\n",
    "# 세로로 합치기\n",
    "group_all <- bind_rows(group_a, group_b)\n",
    "```"
   ]
  }
 ],
 "metadata": {
  "kernelspec": {
   "display_name": "R",
   "language": "R",
   "name": "ir"
  },
  "language_info": {
   "codemirror_mode": "r",
   "file_extension": ".r",
   "mimetype": "text/x-r-source",
   "name": "R",
   "pygments_lexer": "r",
   "version": "3.5.1"
  }
 },
 "nbformat": 4,
 "nbformat_minor": 2
}
