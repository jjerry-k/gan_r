{
 "cells": [
  {
   "cell_type": "markdown",
   "metadata": {},
   "source": [
    "# 6-7 데이터 합치기\n",
    "\n",
    "<img src='./data/04.png'>"
   ]
  },
  {
   "cell_type": "markdown",
   "metadata": {},
   "source": [
    "## 가로로 합치기"
   ]
  },
  {
   "cell_type": "code",
   "execution_count": 16,
   "metadata": {},
   "outputs": [
    {
     "data": {
      "text/html": [
       "<table>\n",
       "<thead><tr><th scope=col>id</th><th scope=col>midterm</th></tr></thead>\n",
       "<tbody>\n",
       "\t<tr><td>1 </td><td>60</td></tr>\n",
       "\t<tr><td>2 </td><td>80</td></tr>\n",
       "\t<tr><td>3 </td><td>70</td></tr>\n",
       "\t<tr><td>4 </td><td>90</td></tr>\n",
       "\t<tr><td>5 </td><td>85</td></tr>\n",
       "</tbody>\n",
       "</table>\n"
      ],
      "text/latex": [
       "\\begin{tabular}{r|ll}\n",
       " id & midterm\\\\\n",
       "\\hline\n",
       "\t 1  & 60\\\\\n",
       "\t 2  & 80\\\\\n",
       "\t 3  & 70\\\\\n",
       "\t 4  & 90\\\\\n",
       "\t 5  & 85\\\\\n",
       "\\end{tabular}\n"
      ],
      "text/markdown": [
       "\n",
       "id | midterm | \n",
       "|---|---|---|---|---|\n",
       "| 1  | 60 | \n",
       "| 2  | 80 | \n",
       "| 3  | 70 | \n",
       "| 4  | 90 | \n",
       "| 5  | 85 | \n",
       "\n",
       "\n"
      ],
      "text/plain": [
       "  id midterm\n",
       "1 1  60     \n",
       "2 2  80     \n",
       "3 3  70     \n",
       "4 4  90     \n",
       "5 5  85     "
      ]
     },
     "metadata": {},
     "output_type": "display_data"
    },
    {
     "data": {
      "text/html": [
       "<table>\n",
       "<thead><tr><th scope=col>id</th><th scope=col>final</th></tr></thead>\n",
       "<tbody>\n",
       "\t<tr><td>1 </td><td>70</td></tr>\n",
       "\t<tr><td>2 </td><td>83</td></tr>\n",
       "\t<tr><td>3 </td><td>65</td></tr>\n",
       "\t<tr><td>4 </td><td>95</td></tr>\n",
       "\t<tr><td>5 </td><td>80</td></tr>\n",
       "</tbody>\n",
       "</table>\n"
      ],
      "text/latex": [
       "\\begin{tabular}{r|ll}\n",
       " id & final\\\\\n",
       "\\hline\n",
       "\t 1  & 70\\\\\n",
       "\t 2  & 83\\\\\n",
       "\t 3  & 65\\\\\n",
       "\t 4  & 95\\\\\n",
       "\t 5  & 80\\\\\n",
       "\\end{tabular}\n"
      ],
      "text/markdown": [
       "\n",
       "id | final | \n",
       "|---|---|---|---|---|\n",
       "| 1  | 70 | \n",
       "| 2  | 83 | \n",
       "| 3  | 65 | \n",
       "| 4  | 95 | \n",
       "| 5  | 80 | \n",
       "\n",
       "\n"
      ],
      "text/plain": [
       "  id final\n",
       "1 1  70   \n",
       "2 2  83   \n",
       "3 3  65   \n",
       "4 4  95   \n",
       "5 5  80   "
      ]
     },
     "metadata": {},
     "output_type": "display_data"
    }
   ],
   "source": [
    "test1 <- data.frame(id = c(1, 2, 3, 4, 5),\n",
    "midterm = c(60, 80, 70, 90, 85))\n",
    "test1\n",
    "\n",
    "test2 <- data.frame(id = c(1, 2, 3, 4, 5),\n",
    "final = c(70, 83, 65, 95, 80))\n",
    "test2"
   ]
  },
  {
   "cell_type": "code",
   "execution_count": 17,
   "metadata": {},
   "outputs": [
    {
     "data": {
      "text/html": [
       "<table>\n",
       "<thead><tr><th scope=col>id</th><th scope=col>midterm</th><th scope=col>final</th></tr></thead>\n",
       "<tbody>\n",
       "\t<tr><td>1 </td><td>60</td><td>70</td></tr>\n",
       "\t<tr><td>2 </td><td>80</td><td>83</td></tr>\n",
       "\t<tr><td>3 </td><td>70</td><td>65</td></tr>\n",
       "\t<tr><td>4 </td><td>90</td><td>95</td></tr>\n",
       "\t<tr><td>5 </td><td>85</td><td>80</td></tr>\n",
       "</tbody>\n",
       "</table>\n"
      ],
      "text/latex": [
       "\\begin{tabular}{r|lll}\n",
       " id & midterm & final\\\\\n",
       "\\hline\n",
       "\t 1  & 60 & 70\\\\\n",
       "\t 2  & 80 & 83\\\\\n",
       "\t 3  & 70 & 65\\\\\n",
       "\t 4  & 90 & 95\\\\\n",
       "\t 5  & 85 & 80\\\\\n",
       "\\end{tabular}\n"
      ],
      "text/markdown": [
       "\n",
       "id | midterm | final | \n",
       "|---|---|---|---|---|\n",
       "| 1  | 60 | 70 | \n",
       "| 2  | 80 | 83 | \n",
       "| 3  | 70 | 65 | \n",
       "| 4  | 90 | 95 | \n",
       "| 5  | 85 | 80 | \n",
       "\n",
       "\n"
      ],
      "text/plain": [
       "  id midterm final\n",
       "1 1  60      70   \n",
       "2 2  80      83   \n",
       "3 3  70      65   \n",
       "4 4  90      95   \n",
       "5 5  85      80   "
      ]
     },
     "metadata": {},
     "output_type": "display_data"
    }
   ],
   "source": [
    "total <- left_join(test1, test2, by = \"id\")\n",
    "total"
   ]
  },
  {
   "cell_type": "markdown",
   "metadata": {},
   "source": [
    "###  다른 데이터 활용해 변수 추가하기"
   ]
  },
  {
   "cell_type": "code",
   "execution_count": 18,
   "metadata": {},
   "outputs": [
    {
     "data": {
      "text/html": [
       "<table>\n",
       "<thead><tr><th scope=col>class</th><th scope=col>teacher</th></tr></thead>\n",
       "<tbody>\n",
       "\t<tr><td>1   </td><td>kim </td></tr>\n",
       "\t<tr><td>2   </td><td>lee </td></tr>\n",
       "\t<tr><td>3   </td><td>park</td></tr>\n",
       "\t<tr><td>4   </td><td>choi</td></tr>\n",
       "\t<tr><td>5   </td><td>jung</td></tr>\n",
       "</tbody>\n",
       "</table>\n"
      ],
      "text/latex": [
       "\\begin{tabular}{r|ll}\n",
       " class & teacher\\\\\n",
       "\\hline\n",
       "\t 1    & kim \\\\\n",
       "\t 2    & lee \\\\\n",
       "\t 3    & park\\\\\n",
       "\t 4    & choi\\\\\n",
       "\t 5    & jung\\\\\n",
       "\\end{tabular}\n"
      ],
      "text/markdown": [
       "\n",
       "class | teacher | \n",
       "|---|---|---|---|---|\n",
       "| 1    | kim  | \n",
       "| 2    | lee  | \n",
       "| 3    | park | \n",
       "| 4    | choi | \n",
       "| 5    | jung | \n",
       "\n",
       "\n"
      ],
      "text/plain": [
       "  class teacher\n",
       "1 1     kim    \n",
       "2 2     lee    \n",
       "3 3     park   \n",
       "4 4     choi   \n",
       "5 5     jung   "
      ]
     },
     "metadata": {},
     "output_type": "display_data"
    }
   ],
   "source": [
    "name <- data.frame(class = c(1, 2, 3, 4, 5),\n",
    "teacher = c(\"kim\", \"lee\", \"park\", \"choi\", \"jung\"))\n",
    "name"
   ]
  },
  {
   "cell_type": "code",
   "execution_count": 19,
   "metadata": {},
   "outputs": [
    {
     "data": {
      "text/html": [
       "<table>\n",
       "<thead><tr><th scope=col>id</th><th scope=col>class</th><th scope=col>math</th><th scope=col>english</th><th scope=col>science</th><th scope=col>teacher</th></tr></thead>\n",
       "<tbody>\n",
       "\t<tr><td> 1  </td><td>1   </td><td>50  </td><td>98  </td><td>50  </td><td>kim </td></tr>\n",
       "\t<tr><td> 2  </td><td>1   </td><td>60  </td><td>97  </td><td>60  </td><td>kim </td></tr>\n",
       "\t<tr><td> 3  </td><td>1   </td><td>45  </td><td>86  </td><td>78  </td><td>kim </td></tr>\n",
       "\t<tr><td> 4  </td><td>1   </td><td>30  </td><td>98  </td><td>58  </td><td>kim </td></tr>\n",
       "\t<tr><td> 5  </td><td>2   </td><td>25  </td><td>80  </td><td>65  </td><td>lee </td></tr>\n",
       "\t<tr><td> 6  </td><td>2   </td><td>50  </td><td>89  </td><td>98  </td><td>lee </td></tr>\n",
       "\t<tr><td> 7  </td><td>2   </td><td>80  </td><td>90  </td><td>45  </td><td>lee </td></tr>\n",
       "\t<tr><td> 8  </td><td>2   </td><td>90  </td><td>78  </td><td>25  </td><td>lee </td></tr>\n",
       "\t<tr><td> 9  </td><td>3   </td><td>20  </td><td>98  </td><td>15  </td><td>park</td></tr>\n",
       "\t<tr><td>10  </td><td>3   </td><td>50  </td><td>98  </td><td>45  </td><td>park</td></tr>\n",
       "\t<tr><td>11  </td><td>3   </td><td>65  </td><td>65  </td><td>65  </td><td>park</td></tr>\n",
       "\t<tr><td>12  </td><td>3   </td><td>45  </td><td>85  </td><td>32  </td><td>park</td></tr>\n",
       "\t<tr><td>13  </td><td>4   </td><td>46  </td><td>98  </td><td>65  </td><td>choi</td></tr>\n",
       "\t<tr><td>14  </td><td>4   </td><td>48  </td><td>87  </td><td>12  </td><td>choi</td></tr>\n",
       "\t<tr><td>15  </td><td>4   </td><td>75  </td><td>56  </td><td>78  </td><td>choi</td></tr>\n",
       "\t<tr><td>16  </td><td>4   </td><td>58  </td><td>98  </td><td>65  </td><td>choi</td></tr>\n",
       "\t<tr><td>17  </td><td>5   </td><td>65  </td><td>68  </td><td>98  </td><td>jung</td></tr>\n",
       "\t<tr><td>18  </td><td>5   </td><td>80  </td><td>78  </td><td>90  </td><td>jung</td></tr>\n",
       "\t<tr><td>19  </td><td>5   </td><td>89  </td><td>68  </td><td>87  </td><td>jung</td></tr>\n",
       "\t<tr><td>20  </td><td>5   </td><td>78  </td><td>83  </td><td>58  </td><td>jung</td></tr>\n",
       "</tbody>\n",
       "</table>\n"
      ],
      "text/latex": [
       "\\begin{tabular}{r|llllll}\n",
       " id & class & math & english & science & teacher\\\\\n",
       "\\hline\n",
       "\t  1   & 1    & 50   & 98   & 50   & kim \\\\\n",
       "\t  2   & 1    & 60   & 97   & 60   & kim \\\\\n",
       "\t  3   & 1    & 45   & 86   & 78   & kim \\\\\n",
       "\t  4   & 1    & 30   & 98   & 58   & kim \\\\\n",
       "\t  5   & 2    & 25   & 80   & 65   & lee \\\\\n",
       "\t  6   & 2    & 50   & 89   & 98   & lee \\\\\n",
       "\t  7   & 2    & 80   & 90   & 45   & lee \\\\\n",
       "\t  8   & 2    & 90   & 78   & 25   & lee \\\\\n",
       "\t  9   & 3    & 20   & 98   & 15   & park\\\\\n",
       "\t 10   & 3    & 50   & 98   & 45   & park\\\\\n",
       "\t 11   & 3    & 65   & 65   & 65   & park\\\\\n",
       "\t 12   & 3    & 45   & 85   & 32   & park\\\\\n",
       "\t 13   & 4    & 46   & 98   & 65   & choi\\\\\n",
       "\t 14   & 4    & 48   & 87   & 12   & choi\\\\\n",
       "\t 15   & 4    & 75   & 56   & 78   & choi\\\\\n",
       "\t 16   & 4    & 58   & 98   & 65   & choi\\\\\n",
       "\t 17   & 5    & 65   & 68   & 98   & jung\\\\\n",
       "\t 18   & 5    & 80   & 78   & 90   & jung\\\\\n",
       "\t 19   & 5    & 89   & 68   & 87   & jung\\\\\n",
       "\t 20   & 5    & 78   & 83   & 58   & jung\\\\\n",
       "\\end{tabular}\n"
      ],
      "text/markdown": [
       "\n",
       "id | class | math | english | science | teacher | \n",
       "|---|---|---|---|---|---|---|---|---|---|---|---|---|---|---|---|---|---|---|---|\n",
       "|  1   | 1    | 50   | 98   | 50   | kim  | \n",
       "|  2   | 1    | 60   | 97   | 60   | kim  | \n",
       "|  3   | 1    | 45   | 86   | 78   | kim  | \n",
       "|  4   | 1    | 30   | 98   | 58   | kim  | \n",
       "|  5   | 2    | 25   | 80   | 65   | lee  | \n",
       "|  6   | 2    | 50   | 89   | 98   | lee  | \n",
       "|  7   | 2    | 80   | 90   | 45   | lee  | \n",
       "|  8   | 2    | 90   | 78   | 25   | lee  | \n",
       "|  9   | 3    | 20   | 98   | 15   | park | \n",
       "| 10   | 3    | 50   | 98   | 45   | park | \n",
       "| 11   | 3    | 65   | 65   | 65   | park | \n",
       "| 12   | 3    | 45   | 85   | 32   | park | \n",
       "| 13   | 4    | 46   | 98   | 65   | choi | \n",
       "| 14   | 4    | 48   | 87   | 12   | choi | \n",
       "| 15   | 4    | 75   | 56   | 78   | choi | \n",
       "| 16   | 4    | 58   | 98   | 65   | choi | \n",
       "| 17   | 5    | 65   | 68   | 98   | jung | \n",
       "| 18   | 5    | 80   | 78   | 90   | jung | \n",
       "| 19   | 5    | 89   | 68   | 87   | jung | \n",
       "| 20   | 5    | 78   | 83   | 58   | jung | \n",
       "\n",
       "\n"
      ],
      "text/plain": [
       "   id class math english science teacher\n",
       "1   1 1     50   98      50      kim    \n",
       "2   2 1     60   97      60      kim    \n",
       "3   3 1     45   86      78      kim    \n",
       "4   4 1     30   98      58      kim    \n",
       "5   5 2     25   80      65      lee    \n",
       "6   6 2     50   89      98      lee    \n",
       "7   7 2     80   90      45      lee    \n",
       "8   8 2     90   78      25      lee    \n",
       "9   9 3     20   98      15      park   \n",
       "10 10 3     50   98      45      park   \n",
       "11 11 3     65   65      65      park   \n",
       "12 12 3     45   85      32      park   \n",
       "13 13 4     46   98      65      choi   \n",
       "14 14 4     48   87      12      choi   \n",
       "15 15 4     75   56      78      choi   \n",
       "16 16 4     58   98      65      choi   \n",
       "17 17 5     65   68      98      jung   \n",
       "18 18 5     80   78      90      jung   \n",
       "19 19 5     89   68      87      jung   \n",
       "20 20 5     78   83      58      jung   "
      ]
     },
     "metadata": {},
     "output_type": "display_data"
    }
   ],
   "source": [
    "exam1 <- read.csv(\"./data/csv_exam.csv\")\n",
    "exam_new <- left_join(exam1, name, by = \"class\")\n",
    "exam_new"
   ]
  },
  {
   "cell_type": "markdown",
   "metadata": {},
   "source": [
    "## 세로로 합치기"
   ]
  },
  {
   "cell_type": "code",
   "execution_count": 20,
   "metadata": {},
   "outputs": [
    {
     "data": {
      "text/html": [
       "<table>\n",
       "<thead><tr><th scope=col>id</th><th scope=col>test</th></tr></thead>\n",
       "<tbody>\n",
       "\t<tr><td>1 </td><td>60</td></tr>\n",
       "\t<tr><td>2 </td><td>80</td></tr>\n",
       "\t<tr><td>3 </td><td>70</td></tr>\n",
       "\t<tr><td>4 </td><td>90</td></tr>\n",
       "\t<tr><td>5 </td><td>85</td></tr>\n",
       "</tbody>\n",
       "</table>\n"
      ],
      "text/latex": [
       "\\begin{tabular}{r|ll}\n",
       " id & test\\\\\n",
       "\\hline\n",
       "\t 1  & 60\\\\\n",
       "\t 2  & 80\\\\\n",
       "\t 3  & 70\\\\\n",
       "\t 4  & 90\\\\\n",
       "\t 5  & 85\\\\\n",
       "\\end{tabular}\n"
      ],
      "text/markdown": [
       "\n",
       "id | test | \n",
       "|---|---|---|---|---|\n",
       "| 1  | 60 | \n",
       "| 2  | 80 | \n",
       "| 3  | 70 | \n",
       "| 4  | 90 | \n",
       "| 5  | 85 | \n",
       "\n",
       "\n"
      ],
      "text/plain": [
       "  id test\n",
       "1 1  60  \n",
       "2 2  80  \n",
       "3 3  70  \n",
       "4 4  90  \n",
       "5 5  85  "
      ]
     },
     "metadata": {},
     "output_type": "display_data"
    },
    {
     "data": {
      "text/html": [
       "<table>\n",
       "<thead><tr><th scope=col>id</th><th scope=col>test</th></tr></thead>\n",
       "<tbody>\n",
       "\t<tr><td> 6</td><td>70</td></tr>\n",
       "\t<tr><td> 7</td><td>83</td></tr>\n",
       "\t<tr><td> 8</td><td>65</td></tr>\n",
       "\t<tr><td> 9</td><td>95</td></tr>\n",
       "\t<tr><td>10</td><td>80</td></tr>\n",
       "</tbody>\n",
       "</table>\n"
      ],
      "text/latex": [
       "\\begin{tabular}{r|ll}\n",
       " id & test\\\\\n",
       "\\hline\n",
       "\t  6 & 70\\\\\n",
       "\t  7 & 83\\\\\n",
       "\t  8 & 65\\\\\n",
       "\t  9 & 95\\\\\n",
       "\t 10 & 80\\\\\n",
       "\\end{tabular}\n"
      ],
      "text/markdown": [
       "\n",
       "id | test | \n",
       "|---|---|---|---|---|\n",
       "|  6 | 70 | \n",
       "|  7 | 83 | \n",
       "|  8 | 65 | \n",
       "|  9 | 95 | \n",
       "| 10 | 80 | \n",
       "\n",
       "\n"
      ],
      "text/plain": [
       "  id test\n",
       "1  6 70  \n",
       "2  7 83  \n",
       "3  8 65  \n",
       "4  9 95  \n",
       "5 10 80  "
      ]
     },
     "metadata": {},
     "output_type": "display_data"
    }
   ],
   "source": [
    "group_a <- data.frame(id = c(1, 2, 3, 4, 5),\n",
    "test = c(60, 80, 70, 90, 85))\n",
    "group_a\n",
    "\n",
    "group_b <- data.frame(id = c(6, 7, 8, 9, 10),\n",
    "test = c(70, 83, 65, 95, 80))\n",
    "group_b"
   ]
  },
  {
   "cell_type": "code",
   "execution_count": 21,
   "metadata": {},
   "outputs": [
    {
     "data": {
      "text/html": [
       "<table>\n",
       "<thead><tr><th scope=col>id</th><th scope=col>test</th></tr></thead>\n",
       "<tbody>\n",
       "\t<tr><td> 1</td><td>60</td></tr>\n",
       "\t<tr><td> 2</td><td>80</td></tr>\n",
       "\t<tr><td> 3</td><td>70</td></tr>\n",
       "\t<tr><td> 4</td><td>90</td></tr>\n",
       "\t<tr><td> 5</td><td>85</td></tr>\n",
       "\t<tr><td> 6</td><td>70</td></tr>\n",
       "\t<tr><td> 7</td><td>83</td></tr>\n",
       "\t<tr><td> 8</td><td>65</td></tr>\n",
       "\t<tr><td> 9</td><td>95</td></tr>\n",
       "\t<tr><td>10</td><td>80</td></tr>\n",
       "</tbody>\n",
       "</table>\n"
      ],
      "text/latex": [
       "\\begin{tabular}{r|ll}\n",
       " id & test\\\\\n",
       "\\hline\n",
       "\t  1 & 60\\\\\n",
       "\t  2 & 80\\\\\n",
       "\t  3 & 70\\\\\n",
       "\t  4 & 90\\\\\n",
       "\t  5 & 85\\\\\n",
       "\t  6 & 70\\\\\n",
       "\t  7 & 83\\\\\n",
       "\t  8 & 65\\\\\n",
       "\t  9 & 95\\\\\n",
       "\t 10 & 80\\\\\n",
       "\\end{tabular}\n"
      ],
      "text/markdown": [
       "\n",
       "id | test | \n",
       "|---|---|---|---|---|---|---|---|---|---|\n",
       "|  1 | 60 | \n",
       "|  2 | 80 | \n",
       "|  3 | 70 | \n",
       "|  4 | 90 | \n",
       "|  5 | 85 | \n",
       "|  6 | 70 | \n",
       "|  7 | 83 | \n",
       "|  8 | 65 | \n",
       "|  9 | 95 | \n",
       "| 10 | 80 | \n",
       "\n",
       "\n"
      ],
      "text/plain": [
       "   id test\n",
       "1   1 60  \n",
       "2   2 80  \n",
       "3   3 70  \n",
       "4   4 90  \n",
       "5   5 85  \n",
       "6   6 70  \n",
       "7   7 83  \n",
       "8   8 65  \n",
       "9   9 95  \n",
       "10 10 80  "
      ]
     },
     "metadata": {},
     "output_type": "display_data"
    }
   ],
   "source": [
    "group_all <- bind_rows(group_a, group_b)\n",
    "group_all"
   ]
  },
  {
   "cell_type": "markdown",
   "metadata": {},
   "source": [
    "# 정리하기\n",
    "\n",
    "\n",
    "## 1.조건에 맞는 데이터만 추출하기\n",
    "```r\n",
    "exam %>% \n",
    "    filter(english >= 80)\n",
    "\n",
    "# 여러 조건 동시 충족\n",
    "exam %>% \n",
    "    filter(class == 1 & math >= 50)\n",
    "\n",
    "# 여러 조건 중 하나 이상 충족\n",
    "exam %>% \n",
    "    filter(math >= 90 | english >= 90) exam %>% \n",
    "    filter(class %in% c(1,3,5))\n",
    "```\n",
    "\n",
    "## 2.필요한 변수만 추출하기\n",
    "```r\n",
    "exam %>% \n",
    "    select(math)\n",
    "exam %>% \n",
    "    select(class, math, english)\n",
    "```\n",
    "\n",
    "## 3.함수 조합하기, 일부만 출력하기\n",
    "```r\n",
    "exam %>%\n",
    "    select(id, math) %>% \n",
    "    head(10)\n",
    "```\n",
    "\n",
    "## 4.순서대로 정렬하기\n",
    "\n",
    "```r\n",
    "exam %>% \n",
    "    arrange(math) # 오름차순 정렬\n",
    "\n",
    "exam %>% \n",
    "    arrange(desc(math)) # 내림차순 정렬\n",
    "\n",
    "exam %>% \n",
    "    arrange(class, math) # 여러 변수 기준 오름차순 정렬\n",
    "```\n",
    "\n",
    "## 5.파생변수 추가하기\n",
    "```r\n",
    "exam %>% \n",
    "    mutate(total = math + english + science) # 여러 파생변수 한 번에 추가하기\n",
    "\n",
    "exam %>%\n",
    "    mutate(total = math + english + science, mean = (math + english + science)/3) # mutate()에 ifelse() 적용하기\n",
    "\n",
    "exam %>% \n",
    "    mutate(test = ifelse(science >= 60, \"pass\", \"fail\")) # 추가한 변수를 dplyr 코드에 바로 활용하기\n",
    "\n",
    "exam %>%\n",
    "    mutate(total = math + english + science) %>%\n",
    "    arrange(total)\n",
    "```\n",
    "\n",
    "## 6.집단별로 요약하기\n",
    "```r\n",
    "exam %>%\n",
    "    group_by(class) %>% \n",
    "    summarise(mean_math = mean(math))\n",
    "\n",
    "# 각 집단별로 다시 집단 나누기\n",
    "mpg %>%\n",
    "    group_by(manufacturer, drv) %>% \n",
    "    summarise(mean_cty = mean(cty))\n",
    "```\n",
    "\n",
    "## 7.데이터 합치기 \n",
    "```r\n",
    "# 가로로 합치기\n",
    "total <- left_join(test1, test2, by = \"id\")\n",
    "\n",
    "# 세로로 합치기\n",
    "group_all <- bind_rows(group_a, group_b)\n",
    "```"
   ]
  }
 ],
 "metadata": {
  "kernelspec": {
   "display_name": "R",
   "language": "R",
   "name": "ir"
  },
  "language_info": {
   "codemirror_mode": "r",
   "file_extension": ".r",
   "mimetype": "text/x-r-source",
   "name": "R",
   "pygments_lexer": "r",
   "version": "3.5.1"
  }
 },
 "nbformat": 4,
 "nbformat_minor": 2
}
