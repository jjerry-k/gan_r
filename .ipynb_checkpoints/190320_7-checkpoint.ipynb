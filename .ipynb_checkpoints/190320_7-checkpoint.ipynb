{
 "cells": [
  {
   "cell_type": "markdown",
   "metadata": {},
   "source": [
    "# 데이터 정제\n",
    "- 빠진 데이터, 이상한 데이터 제거하기\n",
    "<img src='./data/05.png'>"
   ]
  },
  {
   "cell_type": "markdown",
   "metadata": {},
   "source": [
    "## 7-1 결측치 정제하기\n",
    "- 결측치(Missing Value)\n",
    "    - 누락된 값, 비어있는 값\n",
    "    - 함수 적용 불사, 분석 결과 왜곡\n",
    "    - 제거 후 분석 실시"
   ]
  },
  {
   "cell_type": "markdown",
   "metadata": {},
   "source": [
    "### 결측기 제거"
   ]
  },
  {
   "cell_type": "code",
   "execution_count": 5,
   "metadata": {},
   "outputs": [
    {
     "data": {
      "text/html": [
       "<table>\n",
       "<thead><tr><th scope=col>sex</th><th scope=col>score</th></tr></thead>\n",
       "<tbody>\n",
       "\t<tr><td>M </td><td> 5</td></tr>\n",
       "\t<tr><td>F </td><td> 4</td></tr>\n",
       "\t<tr><td>NA</td><td> 3</td></tr>\n",
       "\t<tr><td>M </td><td> 4</td></tr>\n",
       "\t<tr><td>F </td><td>NA</td></tr>\n",
       "</tbody>\n",
       "</table>\n"
      ],
      "text/latex": [
       "\\begin{tabular}{r|ll}\n",
       " sex & score\\\\\n",
       "\\hline\n",
       "\t M  &  5\\\\\n",
       "\t F  &  4\\\\\n",
       "\t NA &  3\\\\\n",
       "\t M  &  4\\\\\n",
       "\t F  & NA\\\\\n",
       "\\end{tabular}\n"
      ],
      "text/markdown": [
       "\n",
       "sex | score | \n",
       "|---|---|---|---|---|\n",
       "| M  |  5 | \n",
       "| F  |  4 | \n",
       "| NA |  3 | \n",
       "| M  |  4 | \n",
       "| F  | NA | \n",
       "\n",
       "\n"
      ],
      "text/plain": [
       "  sex score\n",
       "1 M    5   \n",
       "2 F    4   \n",
       "3 NA   3   \n",
       "4 M    4   \n",
       "5 F   NA   "
      ]
     },
     "metadata": {},
     "output_type": "display_data"
    }
   ],
   "source": [
    "df <- data.frame(sex = c(\"M\", \"F\", NA, \"M\", \"F\"),\n",
    "                 score = c(5, 4, 3, 4, NA))\n",
    "df"
   ]
  },
  {
   "cell_type": "code",
   "execution_count": 6,
   "metadata": {},
   "outputs": [
    {
     "data": {
      "text/html": [
       "<table>\n",
       "<thead><tr><th scope=col>sex</th><th scope=col>score</th></tr></thead>\n",
       "<tbody>\n",
       "\t<tr><td>FALSE</td><td>FALSE</td></tr>\n",
       "\t<tr><td>FALSE</td><td>FALSE</td></tr>\n",
       "\t<tr><td> TRUE</td><td>FALSE</td></tr>\n",
       "\t<tr><td>FALSE</td><td>FALSE</td></tr>\n",
       "\t<tr><td>FALSE</td><td> TRUE</td></tr>\n",
       "</tbody>\n",
       "</table>\n"
      ],
      "text/latex": [
       "\\begin{tabular}{ll}\n",
       " sex & score\\\\\n",
       "\\hline\n",
       "\t FALSE & FALSE\\\\\n",
       "\t FALSE & FALSE\\\\\n",
       "\t  TRUE & FALSE\\\\\n",
       "\t FALSE & FALSE\\\\\n",
       "\t FALSE &  TRUE\\\\\n",
       "\\end{tabular}\n"
      ],
      "text/markdown": [
       "\n",
       "sex | score | \n",
       "|---|---|---|---|---|\n",
       "| FALSE | FALSE | \n",
       "| FALSE | FALSE | \n",
       "|  TRUE | FALSE | \n",
       "| FALSE | FALSE | \n",
       "| FALSE |  TRUE | \n",
       "\n",
       "\n"
      ],
      "text/plain": [
       "     sex   score\n",
       "[1,] FALSE FALSE\n",
       "[2,] FALSE FALSE\n",
       "[3,]  TRUE FALSE\n",
       "[4,] FALSE FALSE\n",
       "[5,] FALSE  TRUE"
      ]
     },
     "metadata": {},
     "output_type": "display_data"
    },
    {
     "data": {
      "text/plain": [
       "\n",
       "FALSE  TRUE \n",
       "    8     2 "
      ]
     },
     "metadata": {},
     "output_type": "display_data"
    }
   ],
   "source": [
    "is.na(df)\n",
    "table(is.na(df))"
   ]
  },
  {
   "cell_type": "code",
   "execution_count": 7,
   "metadata": {},
   "outputs": [
    {
     "data": {
      "text/plain": [
       "\n",
       "FALSE  TRUE \n",
       "    4     1 "
      ]
     },
     "metadata": {},
     "output_type": "display_data"
    },
    {
     "data": {
      "text/plain": [
       "\n",
       "FALSE  TRUE \n",
       "    4     1 "
      ]
     },
     "metadata": {},
     "output_type": "display_data"
    }
   ],
   "source": [
    "table(is.na(df$sex))\n",
    "table(is.na(df$score))"
   ]
  },
  {
   "cell_type": "code",
   "execution_count": 8,
   "metadata": {},
   "outputs": [
    {
     "data": {
      "text/html": [
       "&lt;NA&gt;"
      ],
      "text/latex": [
       "<NA>"
      ],
      "text/markdown": [
       "&lt;NA&gt;"
      ],
      "text/plain": [
       "[1] NA"
      ]
     },
     "metadata": {},
     "output_type": "display_data"
    },
    {
     "data": {
      "text/html": [
       "&lt;NA&gt;"
      ],
      "text/latex": [
       "<NA>"
      ],
      "text/markdown": [
       "&lt;NA&gt;"
      ],
      "text/plain": [
       "[1] NA"
      ]
     },
     "metadata": {},
     "output_type": "display_data"
    }
   ],
   "source": [
    "mean(df$score)\n",
    "sum(df$score)"
   ]
  },
  {
   "cell_type": "code",
   "execution_count": 9,
   "metadata": {},
   "outputs": [
    {
     "name": "stderr",
     "output_type": "stream",
     "text": [
      "\n",
      "Attaching package: ‘dplyr’\n",
      "\n",
      "The following objects are masked from ‘package:stats’:\n",
      "\n",
      "    filter, lag\n",
      "\n",
      "The following objects are masked from ‘package:base’:\n",
      "\n",
      "    intersect, setdiff, setequal, union\n",
      "\n"
     ]
    }
   ],
   "source": [
    "library(dplyr)"
   ]
  },
  {
   "cell_type": "code",
   "execution_count": 10,
   "metadata": {},
   "outputs": [
    {
     "data": {
      "text/html": [
       "<table>\n",
       "<thead><tr><th scope=col>sex</th><th scope=col>score</th></tr></thead>\n",
       "<tbody>\n",
       "\t<tr><td>F </td><td>NA</td></tr>\n",
       "</tbody>\n",
       "</table>\n"
      ],
      "text/latex": [
       "\\begin{tabular}{r|ll}\n",
       " sex & score\\\\\n",
       "\\hline\n",
       "\t F  & NA\\\\\n",
       "\\end{tabular}\n"
      ],
      "text/markdown": [
       "\n",
       "sex | score | \n",
       "|---|\n",
       "| F  | NA | \n",
       "\n",
       "\n"
      ],
      "text/plain": [
       "  sex score\n",
       "1 F   NA   "
      ]
     },
     "metadata": {},
     "output_type": "display_data"
    },
    {
     "data": {
      "text/html": [
       "<table>\n",
       "<thead><tr><th scope=col>sex</th><th scope=col>score</th></tr></thead>\n",
       "<tbody>\n",
       "\t<tr><td>M </td><td>5 </td></tr>\n",
       "\t<tr><td>F </td><td>4 </td></tr>\n",
       "\t<tr><td>NA</td><td>3 </td></tr>\n",
       "\t<tr><td>M </td><td>4 </td></tr>\n",
       "</tbody>\n",
       "</table>\n"
      ],
      "text/latex": [
       "\\begin{tabular}{r|ll}\n",
       " sex & score\\\\\n",
       "\\hline\n",
       "\t M  & 5 \\\\\n",
       "\t F  & 4 \\\\\n",
       "\t NA & 3 \\\\\n",
       "\t M  & 4 \\\\\n",
       "\\end{tabular}\n"
      ],
      "text/markdown": [
       "\n",
       "sex | score | \n",
       "|---|---|---|---|\n",
       "| M  | 5  | \n",
       "| F  | 4  | \n",
       "| NA | 3  | \n",
       "| M  | 4  | \n",
       "\n",
       "\n"
      ],
      "text/plain": [
       "  sex score\n",
       "1 M   5    \n",
       "2 F   4    \n",
       "3 NA  3    \n",
       "4 M   4    "
      ]
     },
     "metadata": {},
     "output_type": "display_data"
    }
   ],
   "source": [
    "df  %>% \n",
    "    filter(is.na(score))\n",
    "\n",
    "df  %>% \n",
    "    filter(!is.na(score))"
   ]
  },
  {
   "cell_type": "code",
   "execution_count": 11,
   "metadata": {},
   "outputs": [
    {
     "data": {
      "text/html": [
       "4"
      ],
      "text/latex": [
       "4"
      ],
      "text/markdown": [
       "4"
      ],
      "text/plain": [
       "[1] 4"
      ]
     },
     "metadata": {},
     "output_type": "display_data"
    },
    {
     "data": {
      "text/html": [
       "16"
      ],
      "text/latex": [
       "16"
      ],
      "text/markdown": [
       "16"
      ],
      "text/plain": [
       "[1] 16"
      ]
     },
     "metadata": {},
     "output_type": "display_data"
    }
   ],
   "source": [
    "df_nomiss <- df %>% filter(!is.na(score))\n",
    "mean(df_nomiss$score)\n",
    "sum(df_nomiss$score)"
   ]
  },
  {
   "cell_type": "code",
   "execution_count": 12,
   "metadata": {},
   "outputs": [
    {
     "data": {
      "text/html": [
       "<table>\n",
       "<thead><tr><th scope=col>sex</th><th scope=col>score</th></tr></thead>\n",
       "<tbody>\n",
       "\t<tr><td>M</td><td>5</td></tr>\n",
       "\t<tr><td>F</td><td>4</td></tr>\n",
       "\t<tr><td>M</td><td>4</td></tr>\n",
       "</tbody>\n",
       "</table>\n"
      ],
      "text/latex": [
       "\\begin{tabular}{r|ll}\n",
       " sex & score\\\\\n",
       "\\hline\n",
       "\t M & 5\\\\\n",
       "\t F & 4\\\\\n",
       "\t M & 4\\\\\n",
       "\\end{tabular}\n"
      ],
      "text/markdown": [
       "\n",
       "sex | score | \n",
       "|---|---|---|\n",
       "| M | 5 | \n",
       "| F | 4 | \n",
       "| M | 4 | \n",
       "\n",
       "\n"
      ],
      "text/plain": [
       "  sex score\n",
       "1 M   5    \n",
       "2 F   4    \n",
       "3 M   4    "
      ]
     },
     "metadata": {},
     "output_type": "display_data"
    }
   ],
   "source": [
    "df_nomiss <- df %>% filter(!is.na(score) & !is.na(sex))\n",
    "df_nomiss"
   ]
  },
  {
   "cell_type": "markdown",
   "metadata": {},
   "source": [
    "#### na.omit 이용하기\n",
    "- NA 인 열 자체를 제거.\n",
    "- 분석에 필요한 데이터까지 손실될 수 있음."
   ]
  },
  {
   "cell_type": "code",
   "execution_count": 13,
   "metadata": {},
   "outputs": [
    {
     "data": {
      "text/html": [
       "<table>\n",
       "<thead><tr><th></th><th scope=col>sex</th><th scope=col>score</th></tr></thead>\n",
       "<tbody>\n",
       "\t<tr><th scope=row>1</th><td>M</td><td>5</td></tr>\n",
       "\t<tr><th scope=row>2</th><td>F</td><td>4</td></tr>\n",
       "\t<tr><th scope=row>4</th><td>M</td><td>4</td></tr>\n",
       "</tbody>\n",
       "</table>\n"
      ],
      "text/latex": [
       "\\begin{tabular}{r|ll}\n",
       "  & sex & score\\\\\n",
       "\\hline\n",
       "\t1 & M & 5\\\\\n",
       "\t2 & F & 4\\\\\n",
       "\t4 & M & 4\\\\\n",
       "\\end{tabular}\n"
      ],
      "text/markdown": [
       "\n",
       "| <!--/--> | sex | score | \n",
       "|---|---|---|\n",
       "| 1 | M | 5 | \n",
       "| 2 | F | 4 | \n",
       "| 4 | M | 4 | \n",
       "\n",
       "\n"
      ],
      "text/plain": [
       "  sex score\n",
       "1 M   5    \n",
       "2 F   4    \n",
       "4 M   4    "
      ]
     },
     "metadata": {},
     "output_type": "display_data"
    }
   ],
   "source": [
    "df_nomiss2 <- na.omit(df)\n",
    "df_nomiss2"
   ]
  },
  {
   "cell_type": "markdown",
   "metadata": {},
   "source": [
    "#### `na.rm = T` 이용하기"
   ]
  },
  {
   "cell_type": "code",
   "execution_count": 14,
   "metadata": {},
   "outputs": [
    {
     "data": {
      "text/html": [
       "4"
      ],
      "text/latex": [
       "4"
      ],
      "text/markdown": [
       "4"
      ],
      "text/plain": [
       "[1] 4"
      ]
     },
     "metadata": {},
     "output_type": "display_data"
    },
    {
     "data": {
      "text/html": [
       "16"
      ],
      "text/latex": [
       "16"
      ],
      "text/markdown": [
       "16"
      ],
      "text/plain": [
       "[1] 16"
      ]
     },
     "metadata": {},
     "output_type": "display_data"
    }
   ],
   "source": [
    "mean(df$score, na.rm = T)\n",
    "sum(df$score, na.rm = T)"
   ]
  },
  {
   "cell_type": "markdown",
   "metadata": {},
   "source": [
    "#### summarise 와 `na.rm = T` 사용"
   ]
  },
  {
   "cell_type": "code",
   "execution_count": 32,
   "metadata": {},
   "outputs": [],
   "source": [
    "exam <- read.csv(\"./data/csv_exam.csv\")\n",
    "exam[c(3, 8, 15), \"math\"] <- NA"
   ]
  },
  {
   "cell_type": "code",
   "execution_count": 33,
   "metadata": {},
   "outputs": [
    {
     "data": {
      "text/html": [
       "<table>\n",
       "<thead><tr><th scope=col>mean_math</th></tr></thead>\n",
       "<tbody>\n",
       "\t<tr><td>NA</td></tr>\n",
       "</tbody>\n",
       "</table>\n"
      ],
      "text/latex": [
       "\\begin{tabular}{r|l}\n",
       " mean\\_math\\\\\n",
       "\\hline\n",
       "\t NA\\\\\n",
       "\\end{tabular}\n"
      ],
      "text/markdown": [
       "\n",
       "mean_math | \n",
       "|---|\n",
       "| NA | \n",
       "\n",
       "\n"
      ],
      "text/plain": [
       "  mean_math\n",
       "1 NA       "
      ]
     },
     "metadata": {},
     "output_type": "display_data"
    },
    {
     "data": {
      "text/html": [
       "<table>\n",
       "<thead><tr><th scope=col>mean_math</th></tr></thead>\n",
       "<tbody>\n",
       "\t<tr><td>55.23529</td></tr>\n",
       "</tbody>\n",
       "</table>\n"
      ],
      "text/latex": [
       "\\begin{tabular}{r|l}\n",
       " mean\\_math\\\\\n",
       "\\hline\n",
       "\t 55.23529\\\\\n",
       "\\end{tabular}\n"
      ],
      "text/markdown": [
       "\n",
       "mean_math | \n",
       "|---|\n",
       "| 55.23529 | \n",
       "\n",
       "\n"
      ],
      "text/plain": [
       "  mean_math\n",
       "1 55.23529 "
      ]
     },
     "metadata": {},
     "output_type": "display_data"
    }
   ],
   "source": [
    "exam %>% \n",
    "    summarise(mean_math = mean(math))\n",
    "\n",
    "exam %>% \n",
    "    summarise(mean_math = mean(math, na.rm = T))"
   ]
  },
  {
   "cell_type": "markdown",
   "metadata": {},
   "source": [
    "#### 다른 함수들에 적용"
   ]
  },
  {
   "cell_type": "code",
   "execution_count": 21,
   "metadata": {},
   "outputs": [
    {
     "data": {
      "text/html": [
       "<table>\n",
       "<thead><tr><th scope=col>mean_math</th><th scope=col>sum_math</th><th scope=col>median_math</th></tr></thead>\n",
       "<tbody>\n",
       "\t<tr><td>55.23529</td><td>939     </td><td>50      </td></tr>\n",
       "</tbody>\n",
       "</table>\n"
      ],
      "text/latex": [
       "\\begin{tabular}{r|lll}\n",
       " mean\\_math & sum\\_math & median\\_math\\\\\n",
       "\\hline\n",
       "\t 55.23529 & 939      & 50      \\\\\n",
       "\\end{tabular}\n"
      ],
      "text/markdown": [
       "\n",
       "mean_math | sum_math | median_math | \n",
       "|---|\n",
       "| 55.23529 | 939      | 50       | \n",
       "\n",
       "\n"
      ],
      "text/plain": [
       "  mean_math sum_math median_math\n",
       "1 55.23529  939      50         "
      ]
     },
     "metadata": {},
     "output_type": "display_data"
    }
   ],
   "source": [
    "exam %>% summarise(mean_math = mean(math, na.rm = T),\n",
    "                   sum_math = sum(math, na.rm = T),\n",
    "                   median_math = median(math, na.rm = T))"
   ]
  },
  {
   "cell_type": "markdown",
   "metadata": {},
   "source": [
    "### 결측치 대체\n",
    "- 결측치 제거시 데이터 손실이 크기 때문에 다른 값으로 채워넣는 방법.\n",
    "- 대표값(평균, 최빈값 등)으로 일괄 대체.\n",
    "- 통계 기법을 적용, 예측값 추정해서 대체."
   ]
  },
  {
   "cell_type": "markdown",
   "metadata": {},
   "source": [
    "#### 평균값으로 대체"
   ]
  },
  {
   "cell_type": "code",
   "execution_count": 34,
   "metadata": {},
   "outputs": [
    {
     "data": {
      "text/html": [
       "55.2352941176471"
      ],
      "text/latex": [
       "55.2352941176471"
      ],
      "text/markdown": [
       "55.2352941176471"
      ],
      "text/plain": [
       "[1] 55.23529"
      ]
     },
     "metadata": {},
     "output_type": "display_data"
    },
    {
     "data": {
      "text/plain": [
       "\n",
       "FALSE \n",
       "   20 "
      ]
     },
     "metadata": {},
     "output_type": "display_data"
    },
    {
     "data": {
      "text/html": [
       "55.2"
      ],
      "text/latex": [
       "55.2"
      ],
      "text/markdown": [
       "55.2"
      ],
      "text/plain": [
       "[1] 55.2"
      ]
     },
     "metadata": {},
     "output_type": "display_data"
    }
   ],
   "source": [
    "mean(exam$math, na.rm = T)\n",
    "exam$math <- ifelse(is.na(exam$math), 55, exam$math)\n",
    "table(is.na(exam$math))\n",
    "mean(exam$math)"
   ]
  },
  {
   "cell_type": "markdown",
   "metadata": {},
   "source": [
    "## 7-2 이상치 정제하기\n",
    "- 이상치(Outlier)\n",
    "    - 정상범주에서 크게 벗어난 값\n",
    "    - 이상치 포함시 분석 결과 왜곡\n",
    "    - 결측 처리 후 제외하고 분석."
   ]
  },
  {
   "cell_type": "markdown",
   "metadata": {},
   "source": [
    "### 이상치 제거 (존재할 수 없는 값)\n",
    "\n",
    "ex)  \n",
    "sex : 1, 2  \n",
    "score : 1, 2, 3, 4, 5"
   ]
  },
  {
   "cell_type": "code",
   "execution_count": 35,
   "metadata": {},
   "outputs": [
    {
     "data": {
      "text/html": [
       "<table>\n",
       "<thead><tr><th scope=col>sex</th><th scope=col>score</th></tr></thead>\n",
       "<tbody>\n",
       "\t<tr><td>1</td><td>5</td></tr>\n",
       "\t<tr><td>2</td><td>4</td></tr>\n",
       "\t<tr><td>1</td><td>3</td></tr>\n",
       "\t<tr><td>3</td><td>4</td></tr>\n",
       "\t<tr><td>2</td><td>2</td></tr>\n",
       "\t<tr><td>1</td><td>6</td></tr>\n",
       "</tbody>\n",
       "</table>\n"
      ],
      "text/latex": [
       "\\begin{tabular}{r|ll}\n",
       " sex & score\\\\\n",
       "\\hline\n",
       "\t 1 & 5\\\\\n",
       "\t 2 & 4\\\\\n",
       "\t 1 & 3\\\\\n",
       "\t 3 & 4\\\\\n",
       "\t 2 & 2\\\\\n",
       "\t 1 & 6\\\\\n",
       "\\end{tabular}\n"
      ],
      "text/markdown": [
       "\n",
       "sex | score | \n",
       "|---|---|---|---|---|---|\n",
       "| 1 | 5 | \n",
       "| 2 | 4 | \n",
       "| 1 | 3 | \n",
       "| 3 | 4 | \n",
       "| 2 | 2 | \n",
       "| 1 | 6 | \n",
       "\n",
       "\n"
      ],
      "text/plain": [
       "  sex score\n",
       "1 1   5    \n",
       "2 2   4    \n",
       "3 1   3    \n",
       "4 3   4    \n",
       "5 2   2    \n",
       "6 1   6    "
      ]
     },
     "metadata": {},
     "output_type": "display_data"
    }
   ],
   "source": [
    "outlier <- data.frame(sex = c(1, 2, 1, 3, 2, 1),\n",
    "                      score = c(5, 4, 3, 4, 2, 6))\n",
    "\n",
    "outlier"
   ]
  },
  {
   "cell_type": "code",
   "execution_count": 36,
   "metadata": {},
   "outputs": [
    {
     "data": {
      "text/plain": [
       "\n",
       "1 2 3 \n",
       "3 2 1 "
      ]
     },
     "metadata": {},
     "output_type": "display_data"
    },
    {
     "data": {
      "text/plain": [
       "\n",
       "2 3 4 5 6 \n",
       "1 1 2 1 1 "
      ]
     },
     "metadata": {},
     "output_type": "display_data"
    }
   ],
   "source": [
    "table(outlier$sex)\n",
    "table(outlier$score)"
   ]
  },
  {
   "cell_type": "code",
   "execution_count": 38,
   "metadata": {},
   "outputs": [
    {
     "data": {
      "text/html": [
       "<table>\n",
       "<thead><tr><th scope=col>sex</th><th scope=col>score</th></tr></thead>\n",
       "<tbody>\n",
       "\t<tr><td> 1</td><td>5 </td></tr>\n",
       "\t<tr><td> 2</td><td>4 </td></tr>\n",
       "\t<tr><td> 1</td><td>3 </td></tr>\n",
       "\t<tr><td>NA</td><td>4 </td></tr>\n",
       "\t<tr><td> 2</td><td>2 </td></tr>\n",
       "\t<tr><td> 1</td><td>6 </td></tr>\n",
       "</tbody>\n",
       "</table>\n"
      ],
      "text/latex": [
       "\\begin{tabular}{r|ll}\n",
       " sex & score\\\\\n",
       "\\hline\n",
       "\t  1 & 5 \\\\\n",
       "\t  2 & 4 \\\\\n",
       "\t  1 & 3 \\\\\n",
       "\t NA & 4 \\\\\n",
       "\t  2 & 2 \\\\\n",
       "\t  1 & 6 \\\\\n",
       "\\end{tabular}\n"
      ],
      "text/markdown": [
       "\n",
       "sex | score | \n",
       "|---|---|---|---|---|---|\n",
       "|  1 | 5  | \n",
       "|  2 | 4  | \n",
       "|  1 | 3  | \n",
       "| NA | 4  | \n",
       "|  2 | 2  | \n",
       "|  1 | 6  | \n",
       "\n",
       "\n"
      ],
      "text/plain": [
       "  sex score\n",
       "1  1  5    \n",
       "2  2  4    \n",
       "3  1  3    \n",
       "4 NA  4    \n",
       "5  2  2    \n",
       "6  1  6    "
      ]
     },
     "metadata": {},
     "output_type": "display_data"
    },
    {
     "data": {
      "text/html": [
       "<table>\n",
       "<thead><tr><th scope=col>sex</th><th scope=col>score</th></tr></thead>\n",
       "<tbody>\n",
       "\t<tr><td> 1</td><td> 5</td></tr>\n",
       "\t<tr><td> 2</td><td> 4</td></tr>\n",
       "\t<tr><td> 1</td><td> 3</td></tr>\n",
       "\t<tr><td>NA</td><td> 4</td></tr>\n",
       "\t<tr><td> 2</td><td> 2</td></tr>\n",
       "\t<tr><td> 1</td><td>NA</td></tr>\n",
       "</tbody>\n",
       "</table>\n"
      ],
      "text/latex": [
       "\\begin{tabular}{r|ll}\n",
       " sex & score\\\\\n",
       "\\hline\n",
       "\t  1 &  5\\\\\n",
       "\t  2 &  4\\\\\n",
       "\t  1 &  3\\\\\n",
       "\t NA &  4\\\\\n",
       "\t  2 &  2\\\\\n",
       "\t  1 & NA\\\\\n",
       "\\end{tabular}\n"
      ],
      "text/markdown": [
       "\n",
       "sex | score | \n",
       "|---|---|---|---|---|---|\n",
       "|  1 |  5 | \n",
       "|  2 |  4 | \n",
       "|  1 |  3 | \n",
       "| NA |  4 | \n",
       "|  2 |  2 | \n",
       "|  1 | NA | \n",
       "\n",
       "\n"
      ],
      "text/plain": [
       "  sex score\n",
       "1  1   5   \n",
       "2  2   4   \n",
       "3  1   3   \n",
       "4 NA   4   \n",
       "5  2   2   \n",
       "6  1  NA   "
      ]
     },
     "metadata": {},
     "output_type": "display_data"
    }
   ],
   "source": [
    "outlier$sex <- ifelse(outlier$sex == 3, NA, outlier$sex)\n",
    "outlier\n",
    "\n",
    "outlier$score <- ifelse(outlier$score > 5, NA, outlier$score)\n",
    "outlier"
   ]
  },
  {
   "cell_type": "code",
   "execution_count": 39,
   "metadata": {},
   "outputs": [
    {
     "data": {
      "text/html": [
       "<table>\n",
       "<thead><tr><th scope=col>sex</th><th scope=col>mean_score</th></tr></thead>\n",
       "<tbody>\n",
       "\t<tr><td>1</td><td>4</td></tr>\n",
       "\t<tr><td>2</td><td>3</td></tr>\n",
       "</tbody>\n",
       "</table>\n"
      ],
      "text/latex": [
       "\\begin{tabular}{r|ll}\n",
       " sex & mean\\_score\\\\\n",
       "\\hline\n",
       "\t 1 & 4\\\\\n",
       "\t 2 & 3\\\\\n",
       "\\end{tabular}\n"
      ],
      "text/markdown": [
       "\n",
       "sex | mean_score | \n",
       "|---|---|\n",
       "| 1 | 4 | \n",
       "| 2 | 3 | \n",
       "\n",
       "\n"
      ],
      "text/plain": [
       "  sex mean_score\n",
       "1 1   4         \n",
       "2 2   3         "
      ]
     },
     "metadata": {},
     "output_type": "display_data"
    }
   ],
   "source": [
    "outlier %>% \n",
    "    filter(!is.na(sex) & !is.na(score)) %>% \n",
    "    group_by(sex) %>% \n",
    "    summarise(mean_score = mean(score))"
   ]
  },
  {
   "cell_type": "markdown",
   "metadata": {},
   "source": [
    "### 이상치 제거(극단적인 값)\n",
    "- 정해놓은 범위를 벗아난 값"
   ]
  },
  {
   "cell_type": "code",
   "execution_count": 44,
   "metadata": {},
   "outputs": [
    {
     "data": {
      "image/png": "[encoded data removed]",
      "text/plain": [
       "plot without title"
      ]
     },
     "metadata": {},
     "output_type": "display_data"
    }
   ],
   "source": [
    "mpg <- as.data.frame(ggplot2::mpg)\n",
    "boxplot(mpg$hwy)"
   ]
  },
  {
   "cell_type": "markdown",
   "metadata": {},
   "source": [
    "<img src='./data/06.png'>\n",
    "<img src='./data/07.png'>"
   ]
  },
  {
   "cell_type": "code",
   "execution_count": 41,
   "metadata": {},
   "outputs": [
    {
     "data": {
      "text/html": [
       "<ol class=list-inline>\n",
       "\t<li>12</li>\n",
       "\t<li>18</li>\n",
       "\t<li>24</li>\n",
       "\t<li>27</li>\n",
       "\t<li>37</li>\n",
       "</ol>\n"
      ],
      "text/latex": [
       "\\begin{enumerate*}\n",
       "\\item 12\n",
       "\\item 18\n",
       "\\item 24\n",
       "\\item 27\n",
       "\\item 37\n",
       "\\end{enumerate*}\n"
      ],
      "text/markdown": [
       "1. 12\n",
       "2. 18\n",
       "3. 24\n",
       "4. 27\n",
       "5. 37\n",
       "\n",
       "\n"
      ],
      "text/plain": [
       "     [,1]\n",
       "[1,]   12\n",
       "[2,]   18\n",
       "[3,]   24\n",
       "[4,]   27\n",
       "[5,]   37\n",
       "attr(,\"class\")\n",
       "        1 \n",
       "\"integer\" "
      ]
     },
     "metadata": {},
     "output_type": "display_data"
    },
    {
     "data": {
      "image/png": "[encoded data removed]",
      "text/plain": [
       "plot without title"
      ]
     },
     "metadata": {},
     "output_type": "display_data"
    }
   ],
   "source": [
    "boxplot(mpg$hwy)$stats\n",
    "# 극단치 경계, 1사분위, 2사분위, 3사분위, 극단치 경계"
   ]
  },
  {
   "cell_type": "code",
   "execution_count": 42,
   "metadata": {
    "scrolled": true
   },
   "outputs": [
    {
     "data": {
      "text/plain": [
       "\n",
       "FALSE  TRUE \n",
       "  231     3 "
      ]
     },
     "metadata": {},
     "output_type": "display_data"
    }
   ],
   "source": [
    "mpg$hwy <- ifelse(mpg$hwy < 12 | mpg$hwy > 37, NA, mpg$hwy)\n",
    "table(is.na(mpg$hwy))"
   ]
  },
  {
   "cell_type": "code",
   "execution_count": 43,
   "metadata": {},
   "outputs": [
    {
     "data": {
      "text/html": [
       "<table>\n",
       "<thead><tr><th scope=col>drv</th><th scope=col>mean_hwy</th></tr></thead>\n",
       "<tbody>\n",
       "\t<tr><td>4       </td><td>19.17476</td></tr>\n",
       "\t<tr><td>f       </td><td>27.72816</td></tr>\n",
       "\t<tr><td>r       </td><td>21.00000</td></tr>\n",
       "</tbody>\n",
       "</table>\n"
      ],
      "text/latex": [
       "\\begin{tabular}{r|ll}\n",
       " drv & mean\\_hwy\\\\\n",
       "\\hline\n",
       "\t 4        & 19.17476\\\\\n",
       "\t f        & 27.72816\\\\\n",
       "\t r        & 21.00000\\\\\n",
       "\\end{tabular}\n"
      ],
      "text/markdown": [
       "\n",
       "drv | mean_hwy | \n",
       "|---|---|---|\n",
       "| 4        | 19.17476 | \n",
       "| f        | 27.72816 | \n",
       "| r        | 21.00000 | \n",
       "\n",
       "\n"
      ],
      "text/plain": [
       "  drv mean_hwy\n",
       "1 4   19.17476\n",
       "2 f   27.72816\n",
       "3 r   21.00000"
      ]
     },
     "metadata": {},
     "output_type": "display_data"
    }
   ],
   "source": [
    "mpg %>% \n",
    "    group_by(drv) %>% \n",
    "    summarise(mean_hwy = mean(hwy, na.rm=T))"
   ]
  },
  {
   "cell_type": "markdown",
   "metadata": {},
   "source": [
    "## 정리하기\n",
    "\n",
    "### 1.결측치 정제하기\n",
    "```r\n",
    "# 결측치 확인\n",
    "table(is.na(df$score))\n",
    "# 결측치 제거\n",
    "df_nomiss <- df %>% filter(!is.na(score)) # 여러 변수 동시에 결측치 제거\n",
    "df_nomiss <- df %>% filter(!is.na(score) & !is.na(sex)) # 함수의 결측치 제외 기능 이용하기\n",
    "mean(df$score, na.rm = T)\n",
    "exam %>% summarise(mean_math = mean(math, na.rm = T))\n",
    "```\n",
    "\n",
    "## 2.이상치 정제하기\n",
    "```r\n",
    "# 이상치 확인\n",
    "table(outlier$sex)\n",
    "# 결측 처리\n",
    "outlier$sex <- ifelse(outlier$sex == 3, NA, outlier$sex) # boxplot 으로 극단치 기준 찾기\n",
    "boxplot(mpg$hwy)$stats\n",
    "# 극단치 결측 처리\n",
    "mpg$hwy <- ifelse(mpg$hwy < 12 | mpg$hwy > 37,   , mpg$hwy)\n",
    "```"
   ]
  }
 ],
 "metadata": {
  "kernelspec": {
   "display_name": "R",
   "language": "R",
   "name": "ir"
  },
  "language_info": {
   "codemirror_mode": "r",
   "file_extension": ".r",
   "mimetype": "text/x-r-source",
   "name": "R",
   "pygments_lexer": "r",
   "version": "3.5.1"
  }
 },
 "nbformat": 4,
 "nbformat_minor": 2
}
